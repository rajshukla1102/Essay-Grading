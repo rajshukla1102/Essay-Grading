{
 "cells": [
  {
   "cell_type": "code",
   "execution_count": 1,
   "id": "e4ae42f9",
   "metadata": {},
   "outputs": [],
   "source": [
    "import pandas as pd\n",
    "import numpy as np\n",
    "import matplotlib.pyplot as plt\n",
    "import seaborn as sns\n",
    "import nltk\n",
    "import re,string\n",
    "import itertools \n",
    "from nltk.stem import WordNetLemmatizer\n",
    "from nltk.corpus import stopwords\n",
    "from string import punctuation\n",
    "from nltk.stem import PorterStemmer\n",
    "from wordcloud import WordCloud, STOPWORDS\n",
    "from gensim.models import Word2Vec\n",
    "import warnings\n",
    "warnings.filterwarnings(\"ignore\")"
   ]
  },
  {
   "cell_type": "code",
   "execution_count": 2,
   "id": "1d1381a9",
   "metadata": {},
   "outputs": [
    {
     "data": {
      "text/plain": [
       "'!\"#$%&\\'()*+,-./:;<=>?@[\\\\]^_`{|}~'"
      ]
     },
     "execution_count": 2,
     "metadata": {},
     "output_type": "execute_result"
    }
   ],
   "source": [
    "punctuation"
   ]
  },
  {
   "cell_type": "code",
   "execution_count": 3,
   "id": "1434c9d7",
   "metadata": {},
   "outputs": [],
   "source": [
    "df_train=pd.read_csv('train.csv')\n",
    "df_test=pd.read_csv('test.csv')"
   ]
  },
  {
   "cell_type": "code",
   "execution_count": 4,
   "id": "99073d6e",
   "metadata": {},
   "outputs": [
    {
     "data": {
      "text/html": [
       "<div>\n",
       "<style scoped>\n",
       "    .dataframe tbody tr th:only-of-type {\n",
       "        vertical-align: middle;\n",
       "    }\n",
       "\n",
       "    .dataframe tbody tr th {\n",
       "        vertical-align: top;\n",
       "    }\n",
       "\n",
       "    .dataframe thead th {\n",
       "        text-align: right;\n",
       "    }\n",
       "</style>\n",
       "<table border=\"1\" class=\"dataframe\">\n",
       "  <thead>\n",
       "    <tr style=\"text-align: right;\">\n",
       "      <th></th>\n",
       "      <th>Unnamed: 0</th>\n",
       "      <th>promptId</th>\n",
       "      <th>uniqueId</th>\n",
       "      <th>essay</th>\n",
       "      <th>evaluator_rating</th>\n",
       "    </tr>\n",
       "  </thead>\n",
       "  <tbody>\n",
       "    <tr>\n",
       "      <th>0</th>\n",
       "      <td>0</td>\n",
       "      <td>1</td>\n",
       "      <td>1_323</td>\n",
       "      <td>At present age, our education system is not go...</td>\n",
       "      <td>3.0</td>\n",
       "    </tr>\n",
       "    <tr>\n",
       "      <th>1</th>\n",
       "      <td>1</td>\n",
       "      <td>1</td>\n",
       "      <td>1_238</td>\n",
       "      <td>I am agree the tightly defined curriculum of o...</td>\n",
       "      <td>4.0</td>\n",
       "    </tr>\n",
       "    <tr>\n",
       "      <th>2</th>\n",
       "      <td>2</td>\n",
       "      <td>1</td>\n",
       "      <td>1_212</td>\n",
       "      <td>I strongly agree with the statement that tight...</td>\n",
       "      <td>2.0</td>\n",
       "    </tr>\n",
       "    <tr>\n",
       "      <th>3</th>\n",
       "      <td>3</td>\n",
       "      <td>1</td>\n",
       "      <td>1_117</td>\n",
       "      <td>Our education system is nice quitely but i dis...</td>\n",
       "      <td>2.0</td>\n",
       "    </tr>\n",
       "    <tr>\n",
       "      <th>4</th>\n",
       "      <td>4</td>\n",
       "      <td>1</td>\n",
       "      <td>1_229</td>\n",
       "      <td>i am totally agree with the statement that tig...</td>\n",
       "      <td>3.0</td>\n",
       "    </tr>\n",
       "  </tbody>\n",
       "</table>\n",
       "</div>"
      ],
      "text/plain": [
       "   Unnamed: 0  promptId uniqueId  \\\n",
       "0           0         1    1_323   \n",
       "1           1         1    1_238   \n",
       "2           2         1    1_212   \n",
       "3           3         1    1_117   \n",
       "4           4         1    1_229   \n",
       "\n",
       "                                               essay  evaluator_rating  \n",
       "0  At present age, our education system is not go...               3.0  \n",
       "1  I am agree the tightly defined curriculum of o...               4.0  \n",
       "2  I strongly agree with the statement that tight...               2.0  \n",
       "3  Our education system is nice quitely but i dis...               2.0  \n",
       "4  i am totally agree with the statement that tig...               3.0  "
      ]
     },
     "execution_count": 4,
     "metadata": {},
     "output_type": "execute_result"
    }
   ],
   "source": [
    "df_train.head()"
   ]
  },
  {
   "cell_type": "code",
   "execution_count": 5,
   "id": "35b1bbd1",
   "metadata": {},
   "outputs": [
    {
     "data": {
      "text/html": [
       "<div>\n",
       "<style scoped>\n",
       "    .dataframe tbody tr th:only-of-type {\n",
       "        vertical-align: middle;\n",
       "    }\n",
       "\n",
       "    .dataframe tbody tr th {\n",
       "        vertical-align: top;\n",
       "    }\n",
       "\n",
       "    .dataframe thead th {\n",
       "        text-align: right;\n",
       "    }\n",
       "</style>\n",
       "<table border=\"1\" class=\"dataframe\">\n",
       "  <thead>\n",
       "    <tr style=\"text-align: right;\">\n",
       "      <th></th>\n",
       "      <th>Unnamed: 0</th>\n",
       "      <th>promptId</th>\n",
       "      <th>uniqueId</th>\n",
       "      <th>essay</th>\n",
       "    </tr>\n",
       "  </thead>\n",
       "  <tbody>\n",
       "    <tr>\n",
       "      <th>0</th>\n",
       "      <td>0</td>\n",
       "      <td>1</td>\n",
       "      <td>1_315</td>\n",
       "      <td>Curriculum has been adopted in many schools. T...</td>\n",
       "    </tr>\n",
       "    <tr>\n",
       "      <th>1</th>\n",
       "      <td>1</td>\n",
       "      <td>1</td>\n",
       "      <td>1_214</td>\n",
       "      <td>I strongly agree with the statement ,  The tig...</td>\n",
       "    </tr>\n",
       "    <tr>\n",
       "      <th>2</th>\n",
       "      <td>2</td>\n",
       "      <td>1</td>\n",
       "      <td>1_196</td>\n",
       "      <td>Imagination and creativity is the most importa...</td>\n",
       "    </tr>\n",
       "    <tr>\n",
       "      <th>3</th>\n",
       "      <td>3</td>\n",
       "      <td>1</td>\n",
       "      <td>1_178</td>\n",
       "      <td>In our eduction system leaves no room for imag...</td>\n",
       "    </tr>\n",
       "    <tr>\n",
       "      <th>4</th>\n",
       "      <td>4</td>\n",
       "      <td>1</td>\n",
       "      <td>1_201</td>\n",
       "      <td>I will agree at some what extend, because if w...</td>\n",
       "    </tr>\n",
       "  </tbody>\n",
       "</table>\n",
       "</div>"
      ],
      "text/plain": [
       "   Unnamed: 0  promptId uniqueId  \\\n",
       "0           0         1    1_315   \n",
       "1           1         1    1_214   \n",
       "2           2         1    1_196   \n",
       "3           3         1    1_178   \n",
       "4           4         1    1_201   \n",
       "\n",
       "                                               essay  \n",
       "0  Curriculum has been adopted in many schools. T...  \n",
       "1  I strongly agree with the statement ,  The tig...  \n",
       "2  Imagination and creativity is the most importa...  \n",
       "3  In our eduction system leaves no room for imag...  \n",
       "4  I will agree at some what extend, because if w...  "
      ]
     },
     "execution_count": 5,
     "metadata": {},
     "output_type": "execute_result"
    }
   ],
   "source": [
    "df_test.head()"
   ]
  },
  {
   "cell_type": "code",
   "execution_count": 6,
   "id": "a4a4a53b",
   "metadata": {},
   "outputs": [],
   "source": [
    "df_train.drop([\"Unnamed: 0\",\"uniqueId\",\"promptId\"],axis=1,inplace=True)\n",
    "df_test.drop([\"Unnamed: 0\",\"uniqueId\",\"promptId\"],axis=1,inplace=True)"
   ]
  },
  {
   "cell_type": "code",
   "execution_count": 7,
   "id": "b003b497",
   "metadata": {},
   "outputs": [
    {
     "data": {
      "text/html": [
       "<div>\n",
       "<style scoped>\n",
       "    .dataframe tbody tr th:only-of-type {\n",
       "        vertical-align: middle;\n",
       "    }\n",
       "\n",
       "    .dataframe tbody tr th {\n",
       "        vertical-align: top;\n",
       "    }\n",
       "\n",
       "    .dataframe thead th {\n",
       "        text-align: right;\n",
       "    }\n",
       "</style>\n",
       "<table border=\"1\" class=\"dataframe\">\n",
       "  <thead>\n",
       "    <tr style=\"text-align: right;\">\n",
       "      <th></th>\n",
       "      <th>essay</th>\n",
       "      <th>evaluator_rating</th>\n",
       "    </tr>\n",
       "  </thead>\n",
       "  <tbody>\n",
       "    <tr>\n",
       "      <th>0</th>\n",
       "      <td>At present age, our education system is not go...</td>\n",
       "      <td>3.0</td>\n",
       "    </tr>\n",
       "    <tr>\n",
       "      <th>1</th>\n",
       "      <td>I am agree the tightly defined curriculum of o...</td>\n",
       "      <td>4.0</td>\n",
       "    </tr>\n",
       "    <tr>\n",
       "      <th>2</th>\n",
       "      <td>I strongly agree with the statement that tight...</td>\n",
       "      <td>2.0</td>\n",
       "    </tr>\n",
       "    <tr>\n",
       "      <th>3</th>\n",
       "      <td>Our education system is nice quitely but i dis...</td>\n",
       "      <td>2.0</td>\n",
       "    </tr>\n",
       "    <tr>\n",
       "      <th>4</th>\n",
       "      <td>i am totally agree with the statement that tig...</td>\n",
       "      <td>3.0</td>\n",
       "    </tr>\n",
       "  </tbody>\n",
       "</table>\n",
       "</div>"
      ],
      "text/plain": [
       "                                               essay  evaluator_rating\n",
       "0  At present age, our education system is not go...               3.0\n",
       "1  I am agree the tightly defined curriculum of o...               4.0\n",
       "2  I strongly agree with the statement that tight...               2.0\n",
       "3  Our education system is nice quitely but i dis...               2.0\n",
       "4  i am totally agree with the statement that tig...               3.0"
      ]
     },
     "execution_count": 7,
     "metadata": {},
     "output_type": "execute_result"
    }
   ],
   "source": [
    "df_train.head()"
   ]
  },
  {
   "cell_type": "code",
   "execution_count": 8,
   "id": "51c01ed9",
   "metadata": {},
   "outputs": [
    {
     "name": "stdout",
     "output_type": "stream",
     "text": [
      "(1240, 2)\n",
      "(305, 1)\n"
     ]
    }
   ],
   "source": [
    "print(df_train.shape)\n",
    "print(df_test.shape)"
   ]
  },
  {
   "cell_type": "code",
   "execution_count": 9,
   "id": "0c34695d",
   "metadata": {},
   "outputs": [
    {
     "data": {
      "text/plain": [
       "essay               0\n",
       "evaluator_rating    0\n",
       "dtype: int64"
      ]
     },
     "execution_count": 9,
     "metadata": {},
     "output_type": "execute_result"
    }
   ],
   "source": [
    "df_train.isna().sum()"
   ]
  },
  {
   "cell_type": "markdown",
   "id": "c074236f",
   "metadata": {},
   "source": [
    "### We can see there is no null values so its good to go ahead"
   ]
  },
  {
   "cell_type": "code",
   "execution_count": 10,
   "id": "fae3cbcf",
   "metadata": {},
   "outputs": [
    {
     "data": {
      "text/plain": [
       "essay    0\n",
       "dtype: int64"
      ]
     },
     "execution_count": 10,
     "metadata": {},
     "output_type": "execute_result"
    }
   ],
   "source": [
    "df_test.isna().sum()"
   ]
  },
  {
   "cell_type": "markdown",
   "id": "3fafd281",
   "metadata": {},
   "source": [
    "### We can see there is no null values in test also"
   ]
  },
  {
   "cell_type": "code",
   "execution_count": 11,
   "id": "3a904e1c",
   "metadata": {},
   "outputs": [
    {
     "name": "stdout",
     "output_type": "stream",
     "text": [
      "<class 'pandas.core.frame.DataFrame'>\n",
      "RangeIndex: 1240 entries, 0 to 1239\n",
      "Data columns (total 2 columns):\n",
      " #   Column            Non-Null Count  Dtype  \n",
      "---  ------            --------------  -----  \n",
      " 0   essay             1240 non-null   object \n",
      " 1   evaluator_rating  1240 non-null   float64\n",
      "dtypes: float64(1), object(1)\n",
      "memory usage: 19.5+ KB\n"
     ]
    }
   ],
   "source": [
    "df_train.info()"
   ]
  },
  {
   "cell_type": "code",
   "execution_count": 12,
   "id": "af73005d",
   "metadata": {},
   "outputs": [
    {
     "data": {
      "text/html": [
       "<div>\n",
       "<style scoped>\n",
       "    .dataframe tbody tr th:only-of-type {\n",
       "        vertical-align: middle;\n",
       "    }\n",
       "\n",
       "    .dataframe tbody tr th {\n",
       "        vertical-align: top;\n",
       "    }\n",
       "\n",
       "    .dataframe thead th {\n",
       "        text-align: right;\n",
       "    }\n",
       "</style>\n",
       "<table border=\"1\" class=\"dataframe\">\n",
       "  <thead>\n",
       "    <tr style=\"text-align: right;\">\n",
       "      <th></th>\n",
       "      <th>evaluator_rating</th>\n",
       "    </tr>\n",
       "  </thead>\n",
       "  <tbody>\n",
       "    <tr>\n",
       "      <th>count</th>\n",
       "      <td>1240.000000</td>\n",
       "    </tr>\n",
       "    <tr>\n",
       "      <th>mean</th>\n",
       "      <td>2.684274</td>\n",
       "    </tr>\n",
       "    <tr>\n",
       "      <th>std</th>\n",
       "      <td>1.082603</td>\n",
       "    </tr>\n",
       "    <tr>\n",
       "      <th>min</th>\n",
       "      <td>0.000000</td>\n",
       "    </tr>\n",
       "    <tr>\n",
       "      <th>25%</th>\n",
       "      <td>2.000000</td>\n",
       "    </tr>\n",
       "    <tr>\n",
       "      <th>50%</th>\n",
       "      <td>3.000000</td>\n",
       "    </tr>\n",
       "    <tr>\n",
       "      <th>75%</th>\n",
       "      <td>3.500000</td>\n",
       "    </tr>\n",
       "    <tr>\n",
       "      <th>max</th>\n",
       "      <td>5.000000</td>\n",
       "    </tr>\n",
       "  </tbody>\n",
       "</table>\n",
       "</div>"
      ],
      "text/plain": [
       "       evaluator_rating\n",
       "count       1240.000000\n",
       "mean           2.684274\n",
       "std            1.082603\n",
       "min            0.000000\n",
       "25%            2.000000\n",
       "50%            3.000000\n",
       "75%            3.500000\n",
       "max            5.000000"
      ]
     },
     "execution_count": 12,
     "metadata": {},
     "output_type": "execute_result"
    }
   ],
   "source": [
    "df_train.describe()\n"
   ]
  },
  {
   "cell_type": "markdown",
   "id": "b6da1d05",
   "metadata": {},
   "source": [
    "#### As we can see max score is 5 and 75% student score is under 3.5 and 25% under 2"
   ]
  },
  {
   "cell_type": "code",
   "execution_count": 13,
   "id": "b9f80306",
   "metadata": {},
   "outputs": [
    {
     "name": "stdout",
     "output_type": "stream",
     "text": [
      "5.0\n",
      "0.0\n"
     ]
    }
   ],
   "source": [
    "print(df_train['evaluator_rating'].max())\n",
    "print(df_train['evaluator_rating'].min())"
   ]
  },
  {
   "cell_type": "code",
   "execution_count": 14,
   "id": "71e8f013",
   "metadata": {},
   "outputs": [
    {
     "name": "stdout",
     "output_type": "stream",
     "text": [
      "evaluator_rating\n",
      "0.0     96\n",
      "0.5      6\n",
      "1.0     30\n",
      "1.5     53\n",
      "2.0    130\n",
      "2.5    223\n",
      "3.0    283\n",
      "3.5    288\n",
      "4.0    101\n",
      "4.5     25\n",
      "5.0      5\n",
      "dtype: int64\n"
     ]
    }
   ],
   "source": [
    "print(df_train.groupby('evaluator_rating').size())"
   ]
  },
  {
   "cell_type": "code",
   "execution_count": 15,
   "id": "fda8da46",
   "metadata": {},
   "outputs": [
    {
     "data": {
      "text/plain": [
       "<AxesSubplot:ylabel='evaluator_rating'>"
      ]
     },
     "execution_count": 15,
     "metadata": {},
     "output_type": "execute_result"
    },
    {
     "data": {
      "image/png": "[encoded data removed]",
      "text/plain": [
       "<Figure size 432x288 with 1 Axes>"
      ]
     },
     "metadata": {
      "needs_background": "light"
     },
     "output_type": "display_data"
    }
   ],
   "source": [
    "df_train.groupby('evaluator_rating').size().plot.barh()"
   ]
  },
  {
   "cell_type": "markdown",
   "id": "2fb76353",
   "metadata": {},
   "source": [
    "### No of student scoring 3.5 is 288 and maximum marks is only obtained by 5 student"
   ]
  },
  {
   "cell_type": "markdown",
   "id": "999a1675",
   "metadata": {},
   "source": [
    "# Preprocessing"
   ]
  },
  {
   "cell_type": "markdown",
   "id": "e574c3e6",
   "metadata": {},
   "source": [
    "Almost every nlp task require to be preprocesses before training model. Here we are processing our data by replacing apostrrophes with standard meaning, lowering text removing stop words and finally lemmatization( I am doing this because in future If I do spell checker it will give benefit) "
   ]
  },
  {
   "cell_type": "code",
   "execution_count": 16,
   "id": "9f81dbdb",
   "metadata": {},
   "outputs": [],
   "source": [
    "stop_words = set(stopwords.words('english'))\n",
    "\n",
    "def cleanData(text, lowercase = False, remove_stops = False, stemming = False, lemmatization = False):\n",
    "    txt = str(text)\n",
    "    # Replace apostrophes with standard lexicons\n",
    "    txt = txt.replace(\"isn't\", \"is not\")\n",
    "    txt = txt.replace(\"aren't\", \"are not\")\n",
    "    txt = txt.replace(\"ain't\", \"am not\")\n",
    "    txt = txt.replace(\"won't\", \"will not\")\n",
    "    txt = txt.replace(\"didn't\", \"did not\")\n",
    "    txt = txt.replace(\"shan't\", \"shall not\")\n",
    "    txt = txt.replace(\"haven't\", \"have not\")\n",
    "    txt = txt.replace(\"hadn't\", \"had not\")\n",
    "    txt = txt.replace(\"hasn't\", \"has not\")\n",
    "    txt = txt.replace(\"don't\", \"do not\")\n",
    "    txt = txt.replace(\"wasn't\", \"was not\")\n",
    "    txt = txt.replace(\"weren't\", \"were not\")\n",
    "    txt = txt.replace(\"doesn't\", \"does not\")\n",
    "    txt = txt.replace(\"'s\", \" is\")\n",
    "    txt = txt.replace(\"'re\", \" are\")\n",
    "    txt = txt.replace(\"'m\", \" am\")\n",
    "    txt = txt.replace(\"'d\", \" would\")\n",
    "    txt = txt.replace(\"'ll\", \" will\")\n",
    "\n",
    "    # More cleaning\n",
    "    txt = re.sub(r\"alot\", \"a lot\", txt)\n",
    "    txt = re.sub(r\"what's\", \"what\", txt)\n",
    "    txt = re.sub(r\"What's\", \"what\", txt)\n",
    "    \n",
    "    \n",
    "    # Remove urls and emails\n",
    "    txt = re.sub(r'^https?:\\/\\/.*[\\r\\n]*', ' ', txt, flags=re.MULTILINE)\n",
    "    txt = re.sub(r'[\\w\\.-]+@[\\w\\.-]+', ' ', txt, flags=re.MULTILINE)\n",
    "    \n",
    "    # Remove punctuation from text\n",
    "    txt = ''.join([c for c in text if c not in punctuation])\n",
    "    \n",
    "    # Remove all symbols\n",
    "    txt = re.sub(r'[^A-Za-z\\s]',r' ',txt)\n",
    "    txt = re.sub(r'\\n',r' ',txt)\n",
    "    \n",
    "    if lowercase:\n",
    "        txt = \" \".join([w.lower() for w in txt.split()])\n",
    "        \n",
    "    if remove_stops:\n",
    "        txt = \" \".join([w for w in txt.split() if w not in stop_words])\n",
    "        \n",
    "    if stemming:\n",
    "        st = PorterStemmer()\n",
    "        txt = \" \".join([st.stem(w) for w in txt.split()])\n",
    "    \n",
    "    if lemmatization:\n",
    "        wordnet_lemmatizer = WordNetLemmatizer()\n",
    "        txt = \" \".join([wordnet_lemmatizer.lemmatize(w, pos='v') for w in txt.split()])\n",
    "\n",
    "    return txt"
   ]
  },
  {
   "cell_type": "code",
   "execution_count": 17,
   "id": "3a434127",
   "metadata": {},
   "outputs": [],
   "source": [
    "df_train['essay'] = df_train['essay'].apply(lambda x: cleanData(x, lowercase=True, remove_stops=True, stemming=False, lemmatization = True))"
   ]
  },
  {
   "cell_type": "code",
   "execution_count": 18,
   "id": "89f86cd6",
   "metadata": {},
   "outputs": [],
   "source": [
    "df_test['essay'] = df_test['essay'].apply(lambda x: cleanData(x, lowercase=True, remove_stops=True, stemming=False, lemmatization = True))"
   ]
  },
  {
   "cell_type": "code",
   "execution_count": 19,
   "id": "86a78cbf",
   "metadata": {},
   "outputs": [
    {
     "data": {
      "text/plain": [
       "0    curriculum adopt many school curriculum great ...\n",
       "1    strongly agree statement tightly define curric...\n",
       "2    imagination creativity important thing develop...\n",
       "3    eduction system leave room imagination creativ...\n",
       "4    agree extend think regular basic university mu...\n",
       "Name: essay, dtype: object"
      ]
     },
     "execution_count": 19,
     "metadata": {},
     "output_type": "execute_result"
    }
   ],
   "source": [
    "df_test['essay'].head()"
   ]
  },
  {
   "cell_type": "code",
   "execution_count": 20,
   "id": "3140882a",
   "metadata": {},
   "outputs": [
    {
     "data": {
      "image/png": "[encoded data removed]",
      "text/plain": [
       "<Figure size 720x1152 with 1 Axes>"
      ]
     },
     "metadata": {
      "needs_background": "light"
     },
     "output_type": "display_data"
    }
   ],
   "source": [
    "wc= WordCloud(width=1600,height=800, margin=0,max_words=500, \n",
    "max_font_size=150, min_font_size=30,).generate(\" \".join(df_train['essay']))\n",
    "plt.figure(figsize=(10, 16))\n",
    "plt.imshow(wc, interpolation=\"nearest\")\n",
    "plt.title('WordCloud of essay in test set', fontsize = 20)\n",
    "plt.axis(\"off\")\n",
    "plt.show()"
   ]
  },
  {
   "cell_type": "markdown",
   "id": "9526a45e",
   "metadata": {},
   "source": [
    "## Model\n",
    "Here we define a 1-Layer LSTM Model and Embedding.\n",
    "Activation fuction used--> Relu"
   ]
  },
  {
   "cell_type": "code",
   "execution_count": 21,
   "id": "5b430822",
   "metadata": {},
   "outputs": [],
   "source": [
    "from tensorflow.keras.layers import Embedding,Dropout,Bidirectional,LSTM,Dense\n",
    "from tensorflow.keras.preprocessing.sequence import pad_sequences\n",
    "from tensorflow.keras.models import Sequential\n",
    "from tensorflow.keras.preprocessing.text import one_hot"
   ]
  },
  {
   "cell_type": "code",
   "execution_count": 22,
   "id": "12c319ce",
   "metadata": {},
   "outputs": [],
   "source": [
    "#vocab size\n",
    "voc_size=6000"
   ]
  },
  {
   "cell_type": "code",
   "execution_count": 23,
   "id": "8e17c38e",
   "metadata": {},
   "outputs": [],
   "source": [
    "onehot_repr_train=[one_hot(words,voc_size)for words in df_train['essay']] \n",
    "onehot_repr_test=[one_hot(words,voc_size)for words in df_test['essay']] "
   ]
  },
  {
   "cell_type": "markdown",
   "id": "a03efd35",
   "metadata": {},
   "source": [
    "One-Hot Encoding. Each words are going to take a particular index for eg. Let say a text=\"rishabh is a good boy. rishabh is \n",
    "hard working boy\". so when we do one-hot it will transform as [[23, 24,5,45,42],[23, 24,34,23,42]]. Here 23 indicates \"rishabh\" and 24 indicates \"is\".\n",
    "#### Note- This index value can be change if we give different vocab size."
   ]
  },
  {
   "cell_type": "code",
   "execution_count": 24,
   "id": "b2478a8e",
   "metadata": {},
   "outputs": [
    {
     "name": "stdout",
     "output_type": "stream",
     "text": [
      "The maximum length in words are : 284\n"
     ]
    }
   ],
   "source": [
    "res = df_train['essay'].str.split().str.len().max()\n",
    "print(\"The maximum length in words are : \" +  str(res)) "
   ]
  },
  {
   "cell_type": "code",
   "execution_count": 25,
   "id": "d48c1d67",
   "metadata": {},
   "outputs": [
    {
     "name": "stdout",
     "output_type": "stream",
     "text": [
      "[[   0    0    0 ... 2574 2440 4329]\n",
      " [   0    0    0 ... 3371 1830   27]\n",
      " [   0    0    0 ... 3682 1194 2165]\n",
      " ...\n",
      " [   0    0    0 ... 4903 5395 2194]\n",
      " [   0    0    0 ... 1243  858  888]\n",
      " [   0 1287  367 ... 1864 4575 3627]]\n"
     ]
    }
   ],
   "source": [
    "#Padding given values so every sentence has same dimension\n",
    "sent_length=285\n",
    "oneHotDoc=pad_sequences(onehot_repr_train,padding='pre',maxlen=sent_length)\n",
    "print(oneHotDoc)"
   ]
  },
  {
   "cell_type": "code",
   "execution_count": 26,
   "id": "aacd5774",
   "metadata": {},
   "outputs": [],
   "source": [
    "def myModel():\n",
    "    embedding_vector_features=200\n",
    "    model = Sequential()\n",
    "    model.add(Embedding(voc_size,embedding_vector_features,input_length=sent_length))\n",
    "    model.add(Bidirectional(LSTM(100, recurrent_dropout=0.4)))\n",
    "    model.add(Dropout(0.5))\n",
    "    model.add(Dense(1, activation='relu'))\n",
    "    model.compile(loss='mean_squared_error', optimizer='rmsprop', metrics=['mae'])\n",
    "    model.summary()\n",
    "    return model"
   ]
  },
  {
   "cell_type": "code",
   "execution_count": 27,
   "id": "d7a4be1a",
   "metadata": {},
   "outputs": [
    {
     "data": {
      "text/plain": [
       "array([[   0,    0,    0, ..., 2574, 2440, 4329],\n",
       "       [   0,    0,    0, ..., 3371, 1830,   27],\n",
       "       [   0,    0,    0, ..., 3682, 1194, 2165],\n",
       "       ...,\n",
       "       [   0,    0,    0, ..., 4903, 5395, 2194],\n",
       "       [   0,    0,    0, ..., 1243,  858,  888],\n",
       "       [   0, 1287,  367, ..., 1864, 4575, 3627]])"
      ]
     },
     "execution_count": 27,
     "metadata": {},
     "output_type": "execute_result"
    }
   ],
   "source": [
    "X_final=np.array(oneHotDoc)\n",
    "y_final=np.array(df_train['evaluator_rating'])\n",
    "X_final"
   ]
  },
  {
   "cell_type": "code",
   "execution_count": 28,
   "id": "0932c32c",
   "metadata": {},
   "outputs": [],
   "source": [
    "from sklearn.model_selection import train_test_split\n",
    "X_train, X_test, y_train, y_test = train_test_split(X_final, y_final, test_size=0.33, random_state=42)"
   ]
  },
  {
   "cell_type": "code",
   "execution_count": 29,
   "id": "01469499",
   "metadata": {},
   "outputs": [
    {
     "name": "stdout",
     "output_type": "stream",
     "text": [
      "(830, 285)\n",
      "(830,)\n",
      "(410, 285)\n",
      "(410,)\n"
     ]
    }
   ],
   "source": [
    "print(X_train.shape)\n",
    "print(y_train.shape)\n",
    "print(X_test.shape)\n",
    "print(y_test.shape)"
   ]
  },
  {
   "cell_type": "code",
   "execution_count": 30,
   "id": "4f3531c9",
   "metadata": {},
   "outputs": [
    {
     "name": "stdout",
     "output_type": "stream",
     "text": [
      "Model: \"sequential\"\n",
      "_________________________________________________________________\n",
      "Layer (type)                 Output Shape              Param #   \n",
      "=================================================================\n",
      "embedding (Embedding)        (None, 285, 200)          1200000   \n",
      "_________________________________________________________________\n",
      "bidirectional (Bidirectional (None, 200)               240800    \n",
      "_________________________________________________________________\n",
      "dropout (Dropout)            (None, 200)               0         \n",
      "_________________________________________________________________\n",
      "dense (Dense)                (None, 1)                 201       \n",
      "=================================================================\n",
      "Total params: 1,441,001\n",
      "Trainable params: 1,441,001\n",
      "Non-trainable params: 0\n",
      "_________________________________________________________________\n"
     ]
    }
   ],
   "source": [
    "lstm_model = myModel()"
   ]
  },
  {
   "cell_type": "code",
   "execution_count": 31,
   "id": "55f4ad89",
   "metadata": {},
   "outputs": [
    {
     "name": "stdout",
     "output_type": "stream",
     "text": [
      "Epoch 1/150\n",
      "13/13 [==============================] - 40s 2s/step - loss: 2.4389 - mae: 1.2252\n",
      "Epoch 2/150\n",
      "13/13 [==============================] - 32s 2s/step - loss: 1.2432 - mae: 0.8593\n",
      "Epoch 3/150\n",
      "13/13 [==============================] - 34s 3s/step - loss: 1.1708 - mae: 0.8490\n",
      "Epoch 4/150\n",
      "13/13 [==============================] - 29s 2s/step - loss: 0.9981 - mae: 0.7839\n",
      "Epoch 5/150\n",
      "13/13 [==============================] - 27s 2s/step - loss: 0.5484 - mae: 0.5817\n",
      "Epoch 6/150\n",
      "13/13 [==============================] - 28s 2s/step - loss: 0.4432 - mae: 0.5265\n",
      "Epoch 7/150\n",
      "13/13 [==============================] - 24s 2s/step - loss: 0.3602 - mae: 0.4724\n",
      "Epoch 8/150\n",
      "13/13 [==============================] - 24s 2s/step - loss: 0.2954 - mae: 0.4229\n",
      "Epoch 9/150\n",
      "13/13 [==============================] - 26s 2s/step - loss: 0.3119 - mae: 0.4291\n",
      "Epoch 10/150\n",
      "13/13 [==============================] - 30s 2s/step - loss: 0.2627 - mae: 0.4024\n",
      "Epoch 11/150\n",
      "13/13 [==============================] - 25s 2s/step - loss: 0.2387 - mae: 0.3817\n",
      "Epoch 12/150\n",
      "13/13 [==============================] - 28s 2s/step - loss: 0.2140 - mae: 0.3520\n",
      "Epoch 13/150\n",
      "13/13 [==============================] - 27s 2s/step - loss: 0.2268 - mae: 0.3715\n",
      "Epoch 14/150\n",
      "13/13 [==============================] - 26s 2s/step - loss: 0.1881 - mae: 0.3383\n",
      "Epoch 15/150\n",
      "13/13 [==============================] - 23s 2s/step - loss: 0.1567 - mae: 0.3096\n",
      "Epoch 16/150\n",
      "13/13 [==============================] - 24s 2s/step - loss: 0.1856 - mae: 0.3341\n",
      "Epoch 17/150\n",
      "13/13 [==============================] - 24s 2s/step - loss: 0.1877 - mae: 0.3318\n",
      "Epoch 18/150\n",
      "13/13 [==============================] - 23s 2s/step - loss: 0.1451 - mae: 0.2901\n",
      "Epoch 19/150\n",
      "13/13 [==============================] - 23s 2s/step - loss: 0.1715 - mae: 0.3175\n",
      "Epoch 20/150\n",
      "13/13 [==============================] - 24s 2s/step - loss: 0.1385 - mae: 0.2881\n",
      "Epoch 21/150\n",
      "13/13 [==============================] - 24s 2s/step - loss: 0.1305 - mae: 0.2777\n",
      "Epoch 22/150\n",
      "13/13 [==============================] - 24s 2s/step - loss: 0.1604 - mae: 0.3067\n",
      "Epoch 23/150\n",
      "13/13 [==============================] - 26s 2s/step - loss: 0.1313 - mae: 0.2763\n",
      "Epoch 24/150\n",
      "13/13 [==============================] - 25s 2s/step - loss: 0.1508 - mae: 0.2962\n",
      "Epoch 25/150\n",
      "13/13 [==============================] - 23s 2s/step - loss: 0.1086 - mae: 0.2521\n",
      "Epoch 26/150\n",
      "13/13 [==============================] - 23s 2s/step - loss: 0.1388 - mae: 0.2821\n",
      "Epoch 27/150\n",
      "13/13 [==============================] - 23s 2s/step - loss: 0.1377 - mae: 0.2800\n",
      "Epoch 28/150\n",
      "13/13 [==============================] - 24s 2s/step - loss: 0.1213 - mae: 0.2658\n",
      "Epoch 29/150\n",
      "13/13 [==============================] - 24s 2s/step - loss: 0.1131 - mae: 0.2550\n",
      "Epoch 30/150\n",
      "13/13 [==============================] - 23s 2s/step - loss: 0.1237 - mae: 0.2707\n",
      "Epoch 31/150\n",
      "13/13 [==============================] - 23s 2s/step - loss: 0.1010 - mae: 0.2460\n",
      "Epoch 32/150\n",
      "13/13 [==============================] - 23s 2s/step - loss: 0.1308 - mae: 0.2781\n",
      "Epoch 33/150\n",
      "13/13 [==============================] - 23s 2s/step - loss: 0.1215 - mae: 0.2756\n",
      "Epoch 34/150\n",
      "13/13 [==============================] - 24s 2s/step - loss: 0.1010 - mae: 0.2386\n",
      "Epoch 35/150\n",
      "13/13 [==============================] - 23s 2s/step - loss: 0.1037 - mae: 0.2485\n",
      "Epoch 36/150\n",
      "13/13 [==============================] - 23s 2s/step - loss: 0.1006 - mae: 0.2451\n",
      "Epoch 37/150\n",
      "13/13 [==============================] - 23s 2s/step - loss: 0.1159 - mae: 0.2557\n",
      "Epoch 38/150\n",
      "13/13 [==============================] - 23s 2s/step - loss: 0.1112 - mae: 0.2507\n",
      "Epoch 39/150\n",
      "13/13 [==============================] - 23s 2s/step - loss: 0.1133 - mae: 0.2562\n",
      "Epoch 40/150\n",
      "13/13 [==============================] - 23s 2s/step - loss: 0.1004 - mae: 0.2451\n",
      "Epoch 41/150\n",
      "13/13 [==============================] - 24s 2s/step - loss: 0.0993 - mae: 0.2373\n",
      "Epoch 42/150\n",
      "13/13 [==============================] - 24s 2s/step - loss: 0.1086 - mae: 0.2514\n",
      "Epoch 43/150\n",
      "13/13 [==============================] - 23s 2s/step - loss: 0.0975 - mae: 0.2384\n",
      "Epoch 44/150\n",
      "13/13 [==============================] - 24s 2s/step - loss: 0.0988 - mae: 0.2417\n",
      "Epoch 45/150\n",
      "13/13 [==============================] - 23s 2s/step - loss: 0.0952 - mae: 0.2327\n",
      "Epoch 46/150\n",
      "13/13 [==============================] - 26s 2s/step - loss: 0.1082 - mae: 0.2516\n",
      "Epoch 47/150\n",
      "13/13 [==============================] - 24s 2s/step - loss: 0.0863 - mae: 0.2230\n",
      "Epoch 48/150\n",
      "13/13 [==============================] - 24s 2s/step - loss: 0.0938 - mae: 0.2339\n",
      "Epoch 49/150\n",
      "13/13 [==============================] - 27s 2s/step - loss: 0.0939 - mae: 0.2346\n",
      "Epoch 50/150\n",
      "13/13 [==============================] - 25s 2s/step - loss: 0.0933 - mae: 0.2337\n",
      "Epoch 51/150\n",
      "13/13 [==============================] - 24s 2s/step - loss: 0.0887 - mae: 0.2306\n",
      "Epoch 52/150\n",
      "13/13 [==============================] - 24s 2s/step - loss: 0.0996 - mae: 0.2379\n",
      "Epoch 53/150\n",
      "13/13 [==============================] - 23s 2s/step - loss: 0.0806 - mae: 0.2146\n",
      "Epoch 54/150\n",
      "13/13 [==============================] - 23s 2s/step - loss: 0.0800 - mae: 0.2132\n",
      "Epoch 55/150\n",
      "13/13 [==============================] - 23s 2s/step - loss: 0.0938 - mae: 0.2316\n",
      "Epoch 56/150\n",
      "13/13 [==============================] - 23s 2s/step - loss: 0.0885 - mae: 0.2270\n",
      "Epoch 57/150\n",
      "13/13 [==============================] - 23s 2s/step - loss: 0.0807 - mae: 0.2157\n",
      "Epoch 58/150\n",
      "13/13 [==============================] - 23s 2s/step - loss: 0.0777 - mae: 0.2109\n",
      "Epoch 59/150\n",
      "13/13 [==============================] - 23s 2s/step - loss: 0.0954 - mae: 0.2344\n",
      "Epoch 60/150\n",
      "13/13 [==============================] - 24s 2s/step - loss: 0.0850 - mae: 0.2233\n",
      "Epoch 61/150\n",
      "13/13 [==============================] - 23s 2s/step - loss: 0.0784 - mae: 0.2139\n",
      "Epoch 62/150\n",
      "13/13 [==============================] - 24s 2s/step - loss: 0.0795 - mae: 0.2119\n",
      "Epoch 63/150\n",
      "13/13 [==============================] - 23s 2s/step - loss: 0.0765 - mae: 0.2120\n",
      "Epoch 64/150\n",
      "13/13 [==============================] - 24s 2s/step - loss: 0.0920 - mae: 0.2307\n",
      "Epoch 65/150\n",
      "13/13 [==============================] - 24s 2s/step - loss: 0.0839 - mae: 0.2232\n",
      "Epoch 66/150\n",
      "13/13 [==============================] - 23s 2s/step - loss: 0.0879 - mae: 0.2235\n",
      "Epoch 67/150\n",
      "13/13 [==============================] - 23s 2s/step - loss: 0.0793 - mae: 0.2140\n",
      "Epoch 68/150\n",
      "13/13 [==============================] - 23s 2s/step - loss: 0.0750 - mae: 0.2080\n",
      "Epoch 69/150\n",
      "13/13 [==============================] - 24s 2s/step - loss: 0.0748 - mae: 0.2106\n",
      "Epoch 70/150\n",
      "13/13 [==============================] - 23s 2s/step - loss: 0.0845 - mae: 0.2247\n",
      "Epoch 71/150\n",
      "13/13 [==============================] - 23s 2s/step - loss: 0.0753 - mae: 0.2103\n",
      "Epoch 72/150\n",
      "13/13 [==============================] - 23s 2s/step - loss: 0.0786 - mae: 0.2178\n",
      "Epoch 73/150\n",
      "13/13 [==============================] - 23s 2s/step - loss: 0.0718 - mae: 0.2049\n",
      "Epoch 74/150\n",
      "13/13 [==============================] - 23s 2s/step - loss: 0.0784 - mae: 0.2115\n",
      "Epoch 75/150\n",
      "13/13 [==============================] - 23s 2s/step - loss: 0.0762 - mae: 0.2123\n",
      "Epoch 76/150\n",
      "13/13 [==============================] - 23s 2s/step - loss: 0.0828 - mae: 0.2160\n",
      "Epoch 77/150\n",
      "13/13 [==============================] - 23s 2s/step - loss: 0.0799 - mae: 0.2133\n",
      "Epoch 78/150\n",
      "13/13 [==============================] - 23s 2s/step - loss: 0.0741 - mae: 0.2089\n",
      "Epoch 79/150\n",
      "13/13 [==============================] - 24s 2s/step - loss: 0.0779 - mae: 0.2117\n",
      "Epoch 80/150\n",
      "13/13 [==============================] - 24s 2s/step - loss: 0.0851 - mae: 0.2216\n",
      "Epoch 81/150\n",
      "13/13 [==============================] - 23s 2s/step - loss: 0.0694 - mae: 0.1994\n",
      "Epoch 82/150\n",
      "13/13 [==============================] - 23s 2s/step - loss: 0.0792 - mae: 0.2127\n",
      "Epoch 83/150\n",
      "13/13 [==============================] - 23s 2s/step - loss: 0.0762 - mae: 0.2102\n",
      "Epoch 84/150\n",
      "13/13 [==============================] - 23s 2s/step - loss: 0.0785 - mae: 0.2134\n",
      "Epoch 85/150\n",
      "13/13 [==============================] - 23s 2s/step - loss: 0.0668 - mae: 0.1954\n",
      "Epoch 86/150\n",
      "13/13 [==============================] - 23s 2s/step - loss: 0.0708 - mae: 0.2015\n",
      "Epoch 87/150\n"
     ]
    },
    {
     "name": "stdout",
     "output_type": "stream",
     "text": [
      "13/13 [==============================] - 23s 2s/step - loss: 0.0749 - mae: 0.2074\n",
      "Epoch 88/150\n",
      "13/13 [==============================] - 24s 2s/step - loss: 0.0647 - mae: 0.1911\n",
      "Epoch 89/150\n",
      "13/13 [==============================] - 24s 2s/step - loss: 0.0752 - mae: 0.2055\n",
      "Epoch 90/150\n",
      "13/13 [==============================] - 24s 2s/step - loss: 0.0791 - mae: 0.2106\n",
      "Epoch 91/150\n",
      "13/13 [==============================] - 23s 2s/step - loss: 0.0692 - mae: 0.1952\n",
      "Epoch 92/150\n",
      "13/13 [==============================] - 24s 2s/step - loss: 0.0731 - mae: 0.2037\n",
      "Epoch 93/150\n",
      "13/13 [==============================] - 23s 2s/step - loss: 0.0728 - mae: 0.2051\n",
      "Epoch 94/150\n",
      "13/13 [==============================] - 23s 2s/step - loss: 0.0707 - mae: 0.1977\n",
      "Epoch 95/150\n",
      "13/13 [==============================] - 23s 2s/step - loss: 0.0800 - mae: 0.2153\n",
      "Epoch 96/150\n",
      "13/13 [==============================] - 23s 2s/step - loss: 0.0782 - mae: 0.2120\n",
      "Epoch 97/150\n",
      "13/13 [==============================] - 23s 2s/step - loss: 0.0678 - mae: 0.1949\n",
      "Epoch 98/150\n",
      "13/13 [==============================] - 24s 2s/step - loss: 0.0691 - mae: 0.1995\n",
      "Epoch 99/150\n",
      "13/13 [==============================] - 25s 2s/step - loss: 0.0648 - mae: 0.1920\n",
      "Epoch 100/150\n",
      "13/13 [==============================] - 26s 2s/step - loss: 0.0604 - mae: 0.1881\n",
      "Epoch 101/150\n",
      "13/13 [==============================] - 25s 2s/step - loss: 0.0693 - mae: 0.2007\n",
      "Epoch 102/150\n",
      "13/13 [==============================] - 26s 2s/step - loss: 0.0688 - mae: 0.2002\n",
      "Epoch 103/150\n",
      "13/13 [==============================] - 26s 2s/step - loss: 0.0641 - mae: 0.1950\n",
      "Epoch 104/150\n",
      "13/13 [==============================] - 26s 2s/step - loss: 0.0632 - mae: 0.1920\n",
      "Epoch 105/150\n",
      "13/13 [==============================] - 24s 2s/step - loss: 0.0681 - mae: 0.1934\n",
      "Epoch 106/150\n",
      "13/13 [==============================] - 23s 2s/step - loss: 0.0735 - mae: 0.2081\n",
      "Epoch 107/150\n",
      "13/13 [==============================] - 23s 2s/step - loss: 0.0658 - mae: 0.1917\n",
      "Epoch 108/150\n",
      "13/13 [==============================] - 23s 2s/step - loss: 0.0605 - mae: 0.1881\n",
      "Epoch 109/150\n",
      "13/13 [==============================] - 24s 2s/step - loss: 0.0667 - mae: 0.1919\n",
      "Epoch 110/150\n",
      "13/13 [==============================] - 25s 2s/step - loss: 0.0599 - mae: 0.1845\n",
      "Epoch 111/150\n",
      "13/13 [==============================] - 24s 2s/step - loss: 0.0676 - mae: 0.1962\n",
      "Epoch 112/150\n",
      "13/13 [==============================] - 24s 2s/step - loss: 0.0624 - mae: 0.1860\n",
      "Epoch 113/150\n",
      "13/13 [==============================] - 24s 2s/step - loss: 0.0665 - mae: 0.1974\n",
      "Epoch 114/150\n",
      "13/13 [==============================] - 23s 2s/step - loss: 0.0599 - mae: 0.1847\n",
      "Epoch 115/150\n",
      "13/13 [==============================] - 24s 2s/step - loss: 0.0605 - mae: 0.1898\n",
      "Epoch 116/150\n",
      "13/13 [==============================] - 24s 2s/step - loss: 0.0618 - mae: 0.1862\n",
      "Epoch 117/150\n",
      "13/13 [==============================] - 23s 2s/step - loss: 0.0655 - mae: 0.1965\n",
      "Epoch 118/150\n",
      "13/13 [==============================] - 24s 2s/step - loss: 0.0667 - mae: 0.1939\n",
      "Epoch 119/150\n",
      "13/13 [==============================] - 24s 2s/step - loss: 0.0693 - mae: 0.2039\n",
      "Epoch 120/150\n",
      "13/13 [==============================] - 24s 2s/step - loss: 0.0614 - mae: 0.1904\n",
      "Epoch 121/150\n",
      "13/13 [==============================] - 24s 2s/step - loss: 0.0639 - mae: 0.1899\n",
      "Epoch 122/150\n",
      "13/13 [==============================] - 24s 2s/step - loss: 0.0612 - mae: 0.1857\n",
      "Epoch 123/150\n",
      "13/13 [==============================] - 26s 2s/step - loss: 0.0639 - mae: 0.1914\n",
      "Epoch 124/150\n",
      "13/13 [==============================] - 25s 2s/step - loss: 0.0649 - mae: 0.1919\n",
      "Epoch 125/150\n",
      "13/13 [==============================] - 25s 2s/step - loss: 0.3212 - mae: 0.2890\n",
      "Epoch 126/150\n",
      "13/13 [==============================] - 26s 2s/step - loss: 0.0584 - mae: 0.1809\n",
      "Epoch 127/150\n",
      "13/13 [==============================] - 26s 2s/step - loss: 0.0597 - mae: 0.1833\n",
      "Epoch 128/150\n",
      "13/13 [==============================] - 24s 2s/step - loss: 0.0516 - mae: 0.1682\n",
      "Epoch 129/150\n",
      "13/13 [==============================] - 25s 2s/step - loss: 0.0640 - mae: 0.1908\n",
      "Epoch 130/150\n",
      "13/13 [==============================] - 24s 2s/step - loss: 0.0637 - mae: 0.1910\n",
      "Epoch 131/150\n",
      "13/13 [==============================] - 24s 2s/step - loss: 0.0625 - mae: 0.1885\n",
      "Epoch 132/150\n",
      "13/13 [==============================] - 23s 2s/step - loss: 0.0655 - mae: 0.1932\n",
      "Epoch 133/150\n",
      "13/13 [==============================] - 24s 2s/step - loss: 0.0582 - mae: 0.1815\n",
      "Epoch 134/150\n",
      "13/13 [==============================] - 24s 2s/step - loss: 0.0614 - mae: 0.1862\n",
      "Epoch 135/150\n",
      "13/13 [==============================] - 24s 2s/step - loss: 0.0615 - mae: 0.1906\n",
      "Epoch 136/150\n",
      "13/13 [==============================] - 24s 2s/step - loss: 0.0562 - mae: 0.1796\n",
      "Epoch 137/150\n",
      "13/13 [==============================] - 24s 2s/step - loss: 0.0590 - mae: 0.1845\n",
      "Epoch 138/150\n",
      "13/13 [==============================] - 24s 2s/step - loss: 0.0548 - mae: 0.1766\n",
      "Epoch 139/150\n",
      "13/13 [==============================] - 24s 2s/step - loss: 0.0675 - mae: 0.1944\n",
      "Epoch 140/150\n",
      "13/13 [==============================] - 24s 2s/step - loss: 0.0677 - mae: 0.1951\n",
      "Epoch 141/150\n",
      "13/13 [==============================] - 24s 2s/step - loss: 0.0601 - mae: 0.1833\n",
      "Epoch 142/150\n",
      "13/13 [==============================] - 24s 2s/step - loss: 0.0605 - mae: 0.1827\n",
      "Epoch 143/150\n",
      "13/13 [==============================] - 24s 2s/step - loss: 0.0681 - mae: 0.1999\n",
      "Epoch 144/150\n",
      "13/13 [==============================] - 24s 2s/step - loss: 0.0599 - mae: 0.1869\n",
      "Epoch 145/150\n",
      "13/13 [==============================] - 24s 2s/step - loss: 0.0542 - mae: 0.1756\n",
      "Epoch 146/150\n",
      "13/13 [==============================] - 24s 2s/step - loss: 0.0604 - mae: 0.1910\n",
      "Epoch 147/150\n",
      "13/13 [==============================] - 24s 2s/step - loss: 0.0601 - mae: 0.1845\n",
      "Epoch 148/150\n",
      "13/13 [==============================] - 27s 2s/step - loss: 0.0604 - mae: 0.1847\n",
      "Epoch 149/150\n",
      "13/13 [==============================] - 28s 2s/step - loss: 0.0587 - mae: 0.1837\n",
      "Epoch 150/150\n",
      "13/13 [==============================] - 23s 2s/step - loss: 0.0564 - mae: 0.1791\n"
     ]
    },
    {
     "data": {
      "text/plain": [
       "<keras.callbacks.History at 0x16fade04730>"
      ]
     },
     "execution_count": 31,
     "metadata": {},
     "output_type": "execute_result"
    }
   ],
   "source": [
    "lstm_model.fit(X_train, y_train, batch_size=64, epochs=150)"
   ]
  },
  {
   "cell_type": "code",
   "execution_count": 32,
   "id": "bbb12293",
   "metadata": {},
   "outputs": [],
   "source": [
    "y_pred = lstm_model.predict(X_test)"
   ]
  },
  {
   "cell_type": "code",
   "execution_count": 33,
   "id": "067b3b55",
   "metadata": {},
   "outputs": [
    {
     "data": {
      "text/plain": [
       "array([[2.4786234 ],\n",
       "       [3.4206767 ],\n",
       "       [3.3486528 ],\n",
       "       [3.099969  ],\n",
       "       [3.3517966 ],\n",
       "       [1.3969707 ],\n",
       "       [2.3033404 ],\n",
       "       [2.9177303 ],\n",
       "       [3.1636238 ],\n",
       "       [2.736199  ],\n",
       "       [2.5316644 ],\n",
       "       [2.55232   ],\n",
       "       [2.4150863 ],\n",
       "       [2.7612634 ],\n",
       "       [3.2135344 ],\n",
       "       [2.9920468 ],\n",
       "       [3.2012544 ],\n",
       "       [2.3485217 ],\n",
       "       [2.3752704 ],\n",
       "       [3.2514577 ],\n",
       "       [2.6034446 ],\n",
       "       [2.9975085 ],\n",
       "       [2.453383  ],\n",
       "       [2.511022  ],\n",
       "       [2.7657595 ],\n",
       "       [0.7655141 ],\n",
       "       [2.5260549 ],\n",
       "       [2.9710684 ],\n",
       "       [2.7629113 ],\n",
       "       [1.1854593 ],\n",
       "       [2.568894  ],\n",
       "       [2.598764  ],\n",
       "       [3.627931  ],\n",
       "       [2.5615969 ],\n",
       "       [2.2806234 ],\n",
       "       [3.1004186 ],\n",
       "       [3.4501405 ],\n",
       "       [1.9310635 ],\n",
       "       [2.149951  ],\n",
       "       [0.        ],\n",
       "       [2.8213077 ],\n",
       "       [3.460343  ],\n",
       "       [2.5185885 ],\n",
       "       [2.777463  ],\n",
       "       [3.1809993 ],\n",
       "       [2.7389226 ],\n",
       "       [3.5423265 ],\n",
       "       [3.2690516 ],\n",
       "       [2.4627452 ],\n",
       "       [2.561771  ],\n",
       "       [3.3556027 ],\n",
       "       [2.9697804 ],\n",
       "       [2.3368802 ],\n",
       "       [2.9210515 ],\n",
       "       [2.0091262 ],\n",
       "       [3.1613507 ],\n",
       "       [2.6757555 ],\n",
       "       [2.96525   ],\n",
       "       [2.885273  ],\n",
       "       [3.537056  ],\n",
       "       [2.5944443 ],\n",
       "       [2.3579793 ],\n",
       "       [2.4816904 ],\n",
       "       [2.8666015 ],\n",
       "       [2.854694  ],\n",
       "       [2.8408442 ],\n",
       "       [3.502524  ],\n",
       "       [1.8458452 ],\n",
       "       [3.1876283 ],\n",
       "       [2.8721347 ],\n",
       "       [2.5947433 ],\n",
       "       [2.5135393 ],\n",
       "       [2.8296285 ],\n",
       "       [2.5172462 ],\n",
       "       [2.5654907 ],\n",
       "       [1.6100532 ],\n",
       "       [1.254363  ],\n",
       "       [2.9763155 ],\n",
       "       [3.2243586 ],\n",
       "       [3.0336843 ],\n",
       "       [2.7018547 ],\n",
       "       [3.334978  ],\n",
       "       [3.1746945 ],\n",
       "       [3.4940476 ],\n",
       "       [3.0288658 ],\n",
       "       [2.426711  ],\n",
       "       [3.1568666 ],\n",
       "       [2.6531963 ],\n",
       "       [2.5481267 ],\n",
       "       [2.4341702 ],\n",
       "       [2.3627357 ],\n",
       "       [2.2024279 ],\n",
       "       [2.4320107 ],\n",
       "       [3.1829906 ],\n",
       "       [2.3346076 ],\n",
       "       [3.1678433 ],\n",
       "       [3.6710749 ],\n",
       "       [2.743363  ],\n",
       "       [2.6322846 ],\n",
       "       [2.7918487 ],\n",
       "       [2.0347033 ],\n",
       "       [2.5299597 ],\n",
       "       [2.870019  ],\n",
       "       [2.5687885 ],\n",
       "       [2.4632707 ],\n",
       "       [3.047741  ],\n",
       "       [2.7512698 ],\n",
       "       [3.126584  ],\n",
       "       [2.9121141 ],\n",
       "       [2.4956827 ],\n",
       "       [2.8776221 ],\n",
       "       [3.4567132 ],\n",
       "       [2.4021387 ],\n",
       "       [1.4304332 ],\n",
       "       [3.3893166 ],\n",
       "       [2.3793273 ],\n",
       "       [2.7325153 ],\n",
       "       [3.2855368 ],\n",
       "       [3.2434802 ],\n",
       "       [2.939375  ],\n",
       "       [2.0598578 ],\n",
       "       [1.949293  ],\n",
       "       [3.2254996 ],\n",
       "       [2.431126  ],\n",
       "       [3.1932392 ],\n",
       "       [2.850371  ],\n",
       "       [3.3946548 ],\n",
       "       [2.2517042 ],\n",
       "       [2.9077635 ],\n",
       "       [2.535038  ],\n",
       "       [0.63705206],\n",
       "       [3.3445797 ],\n",
       "       [3.5299935 ],\n",
       "       [2.9098315 ],\n",
       "       [2.9694104 ],\n",
       "       [2.4236708 ],\n",
       "       [2.5073748 ],\n",
       "       [3.0431528 ],\n",
       "       [2.0225792 ],\n",
       "       [2.4915543 ],\n",
       "       [2.7358756 ],\n",
       "       [2.1442263 ],\n",
       "       [3.1750717 ],\n",
       "       [2.8433414 ],\n",
       "       [2.804977  ],\n",
       "       [1.970599  ],\n",
       "       [2.322774  ],\n",
       "       [2.2833052 ],\n",
       "       [2.5001683 ],\n",
       "       [3.096332  ],\n",
       "       [2.5013428 ],\n",
       "       [2.8382154 ],\n",
       "       [3.214769  ],\n",
       "       [1.8602787 ],\n",
       "       [3.6504307 ],\n",
       "       [3.0912085 ],\n",
       "       [1.6129557 ],\n",
       "       [2.808937  ],\n",
       "       [2.9283571 ],\n",
       "       [3.2773972 ],\n",
       "       [3.0819888 ],\n",
       "       [2.157466  ],\n",
       "       [2.4714494 ],\n",
       "       [3.9379578 ],\n",
       "       [2.4240289 ],\n",
       "       [2.4550443 ],\n",
       "       [2.886722  ],\n",
       "       [1.5200633 ],\n",
       "       [2.4446235 ],\n",
       "       [2.0715485 ],\n",
       "       [2.5023499 ],\n",
       "       [2.0441694 ],\n",
       "       [2.1016521 ],\n",
       "       [3.0911183 ],\n",
       "       [2.9234471 ],\n",
       "       [2.1317525 ],\n",
       "       [3.0085812 ],\n",
       "       [2.9600878 ],\n",
       "       [2.5736818 ],\n",
       "       [2.8041787 ],\n",
       "       [3.3485928 ],\n",
       "       [2.77806   ],\n",
       "       [2.7125916 ],\n",
       "       [2.463431  ],\n",
       "       [2.8770833 ],\n",
       "       [3.300581  ],\n",
       "       [2.5230608 ],\n",
       "       [2.3164134 ],\n",
       "       [2.4354663 ],\n",
       "       [2.8826032 ],\n",
       "       [2.7684069 ],\n",
       "       [2.7071295 ],\n",
       "       [2.6566486 ],\n",
       "       [2.216598  ],\n",
       "       [2.7379065 ],\n",
       "       [3.3051338 ],\n",
       "       [1.907428  ],\n",
       "       [0.49780223],\n",
       "       [3.029482  ],\n",
       "       [2.9862676 ],\n",
       "       [3.665327  ],\n",
       "       [2.150927  ],\n",
       "       [2.1289072 ],\n",
       "       [2.3908672 ],\n",
       "       [2.6166625 ],\n",
       "       [2.8942356 ],\n",
       "       [2.8318787 ],\n",
       "       [2.7225037 ],\n",
       "       [2.5204601 ],\n",
       "       [1.967544  ],\n",
       "       [2.7101803 ],\n",
       "       [3.1861582 ],\n",
       "       [2.6936383 ],\n",
       "       [3.412345  ],\n",
       "       [2.215665  ],\n",
       "       [3.1216621 ],\n",
       "       [3.0857415 ],\n",
       "       [3.4889727 ],\n",
       "       [2.0683298 ],\n",
       "       [3.0463762 ],\n",
       "       [2.3968549 ],\n",
       "       [2.5873108 ],\n",
       "       [3.3467512 ],\n",
       "       [2.5329013 ],\n",
       "       [2.6656132 ],\n",
       "       [2.929758  ],\n",
       "       [1.8448608 ],\n",
       "       [2.9658904 ],\n",
       "       [1.8613101 ],\n",
       "       [2.6697989 ],\n",
       "       [2.3840346 ],\n",
       "       [2.1963859 ],\n",
       "       [3.5001707 ],\n",
       "       [2.261239  ],\n",
       "       [2.707622  ],\n",
       "       [2.540594  ],\n",
       "       [2.8541985 ],\n",
       "       [3.3556252 ],\n",
       "       [1.9409705 ],\n",
       "       [2.9327712 ],\n",
       "       [2.572659  ],\n",
       "       [3.2448406 ],\n",
       "       [3.187645  ],\n",
       "       [3.282946  ],\n",
       "       [2.3910909 ],\n",
       "       [2.9267697 ],\n",
       "       [2.0829544 ],\n",
       "       [2.4276433 ],\n",
       "       [3.696649  ],\n",
       "       [1.9284142 ],\n",
       "       [2.5890565 ],\n",
       "       [2.1881952 ],\n",
       "       [2.9294329 ],\n",
       "       [2.853785  ],\n",
       "       [2.3123503 ],\n",
       "       [3.284278  ],\n",
       "       [2.350799  ],\n",
       "       [2.5648198 ],\n",
       "       [2.434936  ],\n",
       "       [2.1063197 ],\n",
       "       [2.5444298 ],\n",
       "       [2.2959766 ],\n",
       "       [2.2796907 ],\n",
       "       [2.7394814 ],\n",
       "       [2.4405737 ],\n",
       "       [2.1390195 ],\n",
       "       [2.5689917 ],\n",
       "       [2.6699018 ],\n",
       "       [2.000001  ],\n",
       "       [2.7641902 ],\n",
       "       [2.340167  ],\n",
       "       [2.0260978 ],\n",
       "       [2.4499497 ],\n",
       "       [2.6257339 ],\n",
       "       [3.0276146 ],\n",
       "       [2.3220725 ],\n",
       "       [3.2489514 ],\n",
       "       [2.3278594 ],\n",
       "       [3.3707438 ],\n",
       "       [2.3333197 ],\n",
       "       [2.8003554 ],\n",
       "       [3.4112787 ],\n",
       "       [1.9625491 ],\n",
       "       [2.9669065 ],\n",
       "       [2.887422  ],\n",
       "       [2.8526607 ],\n",
       "       [3.1261053 ],\n",
       "       [2.9072757 ],\n",
       "       [3.0484476 ],\n",
       "       [2.679553  ],\n",
       "       [2.2408905 ],\n",
       "       [3.102384  ],\n",
       "       [1.7785369 ],\n",
       "       [2.3132467 ],\n",
       "       [2.4982147 ],\n",
       "       [3.1310349 ],\n",
       "       [2.6459475 ],\n",
       "       [1.899772  ],\n",
       "       [2.430378  ],\n",
       "       [2.0107865 ],\n",
       "       [2.2049916 ],\n",
       "       [2.3308349 ],\n",
       "       [2.6477509 ],\n",
       "       [2.2254357 ],\n",
       "       [2.7881923 ],\n",
       "       [2.931651  ],\n",
       "       [2.1761117 ],\n",
       "       [3.3827333 ],\n",
       "       [3.4067879 ],\n",
       "       [2.8860817 ],\n",
       "       [2.5467696 ],\n",
       "       [2.1245785 ],\n",
       "       [2.757296  ],\n",
       "       [2.9138985 ],\n",
       "       [2.8005233 ],\n",
       "       [2.918373  ],\n",
       "       [3.1848712 ],\n",
       "       [3.435277  ],\n",
       "       [2.4666495 ],\n",
       "       [2.7981596 ],\n",
       "       [3.0847802 ],\n",
       "       [2.5520935 ],\n",
       "       [3.0062084 ],\n",
       "       [3.0423565 ],\n",
       "       [2.850294  ],\n",
       "       [2.519981  ],\n",
       "       [2.1250453 ],\n",
       "       [3.350502  ],\n",
       "       [3.1636605 ],\n",
       "       [3.0410619 ],\n",
       "       [0.9636952 ],\n",
       "       [2.2530599 ],\n",
       "       [2.871892  ],\n",
       "       [2.1950622 ],\n",
       "       [2.0938275 ],\n",
       "       [3.036107  ],\n",
       "       [3.3854623 ],\n",
       "       [2.6932359 ],\n",
       "       [2.4218183 ],\n",
       "       [2.02068   ],\n",
       "       [2.5875292 ],\n",
       "       [2.9539819 ],\n",
       "       [3.402913  ],\n",
       "       [2.8499217 ],\n",
       "       [1.9504153 ],\n",
       "       [3.1576653 ],\n",
       "       [2.9960604 ],\n",
       "       [1.6169685 ],\n",
       "       [3.4581156 ],\n",
       "       [2.8627057 ],\n",
       "       [3.1755185 ],\n",
       "       [3.6220455 ],\n",
       "       [3.571601  ],\n",
       "       [1.799436  ],\n",
       "       [2.465804  ],\n",
       "       [2.4297123 ],\n",
       "       [3.2741246 ],\n",
       "       [2.6044836 ],\n",
       "       [2.0283449 ],\n",
       "       [2.4519963 ],\n",
       "       [2.8912973 ],\n",
       "       [3.2049117 ],\n",
       "       [2.5284214 ],\n",
       "       [3.5627327 ],\n",
       "       [3.03517   ],\n",
       "       [2.192475  ],\n",
       "       [2.341662  ],\n",
       "       [2.828679  ],\n",
       "       [2.0150933 ],\n",
       "       [2.7518892 ],\n",
       "       [3.2487216 ],\n",
       "       [3.2217965 ],\n",
       "       [2.233995  ],\n",
       "       [2.2647395 ],\n",
       "       [2.0116498 ],\n",
       "       [3.8232193 ],\n",
       "       [2.6722836 ],\n",
       "       [1.8416067 ],\n",
       "       [2.345811  ],\n",
       "       [2.5930705 ],\n",
       "       [2.9234934 ],\n",
       "       [2.5490413 ],\n",
       "       [3.3985076 ],\n",
       "       [1.944237  ],\n",
       "       [2.8047419 ],\n",
       "       [3.2286592 ],\n",
       "       [2.9471383 ],\n",
       "       [2.6580725 ],\n",
       "       [2.388389  ],\n",
       "       [3.577898  ],\n",
       "       [2.9053388 ],\n",
       "       [2.5182204 ],\n",
       "       [2.3398614 ],\n",
       "       [3.0964494 ],\n",
       "       [1.9876541 ],\n",
       "       [3.1017303 ],\n",
       "       [2.2751951 ],\n",
       "       [2.7619505 ],\n",
       "       [3.4092093 ],\n",
       "       [2.5598989 ],\n",
       "       [2.3372517 ],\n",
       "       [2.6503096 ],\n",
       "       [2.31032   ],\n",
       "       [2.9668117 ],\n",
       "       [2.949212  ],\n",
       "       [2.5936499 ],\n",
       "       [2.0527248 ],\n",
       "       [2.7241006 ],\n",
       "       [2.312768  ],\n",
       "       [3.0493112 ]], dtype=float32)"
      ]
     },
     "execution_count": 33,
     "metadata": {},
     "output_type": "execute_result"
    }
   ],
   "source": [
    "y_pred"
   ]
  },
  {
   "cell_type": "code",
   "execution_count": 34,
   "id": "19d45dbd",
   "metadata": {},
   "outputs": [],
   "source": [
    "from sklearn.metrics import mean_squared_error"
   ]
  },
  {
   "cell_type": "code",
   "execution_count": 35,
   "id": "db1bd6a0",
   "metadata": {},
   "outputs": [
    {
     "data": {
      "text/plain": [
       "1.1072684273649354"
      ]
     },
     "execution_count": 35,
     "metadata": {},
     "output_type": "execute_result"
    }
   ],
   "source": [
    "mean_squared_error(y_pred,y_test)\n",
    "#epoch =50 we get mse 1.3529 vocab_size is 2000\n",
    "#epoch=70 we get mse 1.3514 vocab_size is 2000\n",
    "#epoch =50 we get mse 1.4 vocab_size is 2000\n",
    "#epoch =70 Bidirectional LSTM mse 1.19 voacb_size is 8000 Vector dimension is 200\n",
    "#epoch =100 Bidirectional LSTM mse 1.17 voacb_size is 8000 Vector dimension is 200\n",
    "#epoch =1500 Bidirectional LSTM mse 1.10 voacb_size is 8000 Vector dimension is 200"
   ]
  },
  {
   "cell_type": "code",
   "execution_count": 36,
   "id": "d5befb99",
   "metadata": {},
   "outputs": [],
   "source": [
    "sent_length=285\n",
    "embedded_docs_test=pad_sequences(onehot_repr_test,padding='pre',maxlen=sent_length)"
   ]
  },
  {
   "cell_type": "code",
   "execution_count": 37,
   "id": "05d054b7",
   "metadata": {},
   "outputs": [],
   "source": [
    "X_new=np.array(embedded_docs_test)"
   ]
  },
  {
   "cell_type": "code",
   "execution_count": 38,
   "id": "195e1021",
   "metadata": {},
   "outputs": [
    {
     "data": {
      "text/plain": [
       "array([[   0,    0,    0, ..., 3342, 5728, 5739],\n",
       "       [   0,    0,    0, ..., 4368, 3397,   21],\n",
       "       [   0,    0,    0, ..., 5039, 2655, 3849],\n",
       "       ...,\n",
       "       [   0,    0,    0, ..., 1228, 2246,  176],\n",
       "       [   0,    0,    0, ..., 5551, 5395, 4732],\n",
       "       [   0,    0,    0, ..., 5551, 4736, 2417]])"
      ]
     },
     "execution_count": 38,
     "metadata": {},
     "output_type": "execute_result"
    }
   ],
   "source": [
    "X_new"
   ]
  },
  {
   "cell_type": "code",
   "execution_count": 39,
   "id": "4d70320e",
   "metadata": {},
   "outputs": [],
   "source": [
    "y_pred_new = lstm_model.predict(X_new)"
   ]
  },
  {
   "cell_type": "code",
   "execution_count": 40,
   "id": "51e14eed",
   "metadata": {},
   "outputs": [
    {
     "data": {
      "text/plain": [
       "(305, 1)"
      ]
     },
     "execution_count": 40,
     "metadata": {},
     "output_type": "execute_result"
    }
   ],
   "source": [
    "y_pred_new.shape"
   ]
  },
  {
   "cell_type": "code",
   "execution_count": 95,
   "id": "6e8ca6d5",
   "metadata": {},
   "outputs": [
    {
     "data": {
      "text/plain": [
       "array([2.3, 3.2, 2.5, 3.1, 3.5, 2.7, 3. , 2.4, 2.4, 3. , 3.4, 2.8, 2.2,\n",
       "       3.1, 2.2, 2.6, 3.5, 3.3, 3.4, 2. , 2.7, 2.5, 2.5, 2.8, 2.1, 2.2,\n",
       "       3.4, 2.6, 2.3, 2.8, 2.8, 2.9, 2.7, 3.1, 2.9, 3.3, 3.8, 3. , 3.3,\n",
       "       2.7, 4. , 1.7, 3.7, 3. , 2.4, 2.7, 3.1, 3.1, 2.7, 3. , 2. , 2.6,\n",
       "       3.4, 2.4, 3. , 2. , 2.7, 2.8, 3.1, 2.2, 3. , 1.5, 3.3, 3.5, 2.9,\n",
       "       3. , 2.4, 1.5, 3.1, 2.4, 3. , 2.6, 2.9, 3.1, 2. , 2.1, 2.9, 2.9,\n",
       "       1.8, 2.4, 3. , 3.4, 2.3, 3.1, 2.4, 2.8, 2.5, 2.1, 1.8, 1.8, 3.2,\n",
       "       3.3, 3.5, 3.1, 2.9, 2. , 2.5, 2.8, 2.6, 2.1, 2.7, 2.6, 2.7, 2.7,\n",
       "       1.8, 3.3, 2.9, 3.2, 1.7, 2.5, 3. , 2.4, 2.5, 1.7, 3.2, 2.6, 2.6,\n",
       "       2.1, 3.3, 2.9, 1.5, 2.6, 2.2, 2.9, 2.8, 2.9, 2. , 2.3, 2.4, 1.8,\n",
       "       3.4, 2.8, 2.3, 3.3, 2.5, 2.5, 3. , 2.6, 1.8, 2.9, 1.6, 2.6, 2.5,\n",
       "       3. , 1.1, 3.2, 2.8, 3.1, 3.1, 2.7, 3.7, 1.5, 3.1, 2.7, 3.5, 2. ,\n",
       "       3.4, 2.8, 2.7, 3.1, 3.5, 2. , 3.5, 1.8, 3.2, 3.2, 3.2, 3. , 3.3,\n",
       "       2.3, 3.2, 3.6, 3.5, 2.8, 3.4, 3.2, 2.4, 3.3, 2.8, 2.7, 3.2, 3.2,\n",
       "       3.2, 1.5, 2.2, 2.6, 2.2, 1.8, 2.5, 3.2, 3.1, 3. , 3.2, 3.1, 2.7,\n",
       "       2.7, 2.6, 2.8, 3. , 3.4, 2.8, 3.4, 2.3, 2.7, 1.4, 2.7, 2.3, 2.4,\n",
       "       2.2, 2.1, 3.3, 3.7, 2.9, 3.1, 3.4, 3.5, 2.9, 2.4, 3.6, 3. , 3.3,\n",
       "       3.1, 2.7, 2.2, 3.2, 3.3, 3.1, 1.8, 3.8, 2.8, 0. , 2. , 1. , 1.6,\n",
       "       0.5, 3.1, 3.5, 2.8, 1.4, 2.3, 3.7, 2.5, 3. , 2.9, 3.1, 2.6, 2.5,\n",
       "       3.1, 2.8, 3. , 2.7, 2.9, 1.8, 2.7, 2.9, 3.1, 3. , 2.3, 2.8, 0. ,\n",
       "       2.5, 2.5, 0.9, 3.5, 0. , 3.4, 2.6, 3.2, 3.3, 0.2, 0. , 1.8, 3.7,\n",
       "       2.8, 2.2, 2. , 2.7, 1.8, 2.6, 2.1, 3.1, 1.9, 2.3, 1.2, 0.6, 2.3,\n",
       "       2.6, 1.6, 1.6, 2.3, 2. , 1.7, 3.1, 3.1, 2.9, 3.2, 3.2, 2.4, 3.1,\n",
       "       2.4, 2.1, 3. , 2.5, 3.5, 2.2], dtype=float32)"
      ]
     },
     "execution_count": 95,
     "metadata": {},
     "output_type": "execute_result"
    }
   ],
   "source": [
    "yete=y_pred_new.flatten().round(1)\n",
    "yete"
   ]
  },
  {
   "cell_type": "code",
   "execution_count": 105,
   "id": "58d2474d",
   "metadata": {},
   "outputs": [],
   "source": [
    "df_test_new=pd.read_csv(r'C:\\Users\\Munna Mishra\\Downloads\\ai_hiring-20210917T081637Z-001\\ai_hiring\\test.csv')"
   ]
  },
  {
   "cell_type": "code",
   "execution_count": 106,
   "id": "3037a320",
   "metadata": {},
   "outputs": [],
   "source": [
    "df_test_new.drop([\"Unnamed: 0\"],axis=1,inplace=True)"
   ]
  },
  {
   "cell_type": "code",
   "execution_count": 107,
   "id": "65e5f519",
   "metadata": {},
   "outputs": [
    {
     "data": {
      "text/html": [
       "<div>\n",
       "<style scoped>\n",
       "    .dataframe tbody tr th:only-of-type {\n",
       "        vertical-align: middle;\n",
       "    }\n",
       "\n",
       "    .dataframe tbody tr th {\n",
       "        vertical-align: top;\n",
       "    }\n",
       "\n",
       "    .dataframe thead th {\n",
       "        text-align: right;\n",
       "    }\n",
       "</style>\n",
       "<table border=\"1\" class=\"dataframe\">\n",
       "  <thead>\n",
       "    <tr style=\"text-align: right;\">\n",
       "      <th></th>\n",
       "      <th>promptId</th>\n",
       "      <th>uniqueId</th>\n",
       "      <th>essay</th>\n",
       "    </tr>\n",
       "  </thead>\n",
       "  <tbody>\n",
       "    <tr>\n",
       "      <th>0</th>\n",
       "      <td>1</td>\n",
       "      <td>1_315</td>\n",
       "      <td>Curriculum has been adopted in many schools. T...</td>\n",
       "    </tr>\n",
       "    <tr>\n",
       "      <th>1</th>\n",
       "      <td>1</td>\n",
       "      <td>1_214</td>\n",
       "      <td>I strongly agree with the statement ,  The tig...</td>\n",
       "    </tr>\n",
       "    <tr>\n",
       "      <th>2</th>\n",
       "      <td>1</td>\n",
       "      <td>1_196</td>\n",
       "      <td>Imagination and creativity is the most importa...</td>\n",
       "    </tr>\n",
       "    <tr>\n",
       "      <th>3</th>\n",
       "      <td>1</td>\n",
       "      <td>1_178</td>\n",
       "      <td>In our eduction system leaves no room for imag...</td>\n",
       "    </tr>\n",
       "    <tr>\n",
       "      <th>4</th>\n",
       "      <td>1</td>\n",
       "      <td>1_201</td>\n",
       "      <td>I will agree at some what extend, because if w...</td>\n",
       "    </tr>\n",
       "  </tbody>\n",
       "</table>\n",
       "</div>"
      ],
      "text/plain": [
       "   promptId uniqueId                                              essay\n",
       "0         1    1_315  Curriculum has been adopted in many schools. T...\n",
       "1         1    1_214  I strongly agree with the statement ,  The tig...\n",
       "2         1    1_196  Imagination and creativity is the most importa...\n",
       "3         1    1_178  In our eduction system leaves no room for imag...\n",
       "4         1    1_201  I will agree at some what extend, because if w..."
      ]
     },
     "execution_count": 107,
     "metadata": {},
     "output_type": "execute_result"
    }
   ],
   "source": [
    "df_test_new.head()"
   ]
  },
  {
   "cell_type": "code",
   "execution_count": 108,
   "id": "de806a7a",
   "metadata": {},
   "outputs": [],
   "source": [
    "df_data=pd.DataFrame({'predicted_score':yete})"
   ]
  },
  {
   "cell_type": "code",
   "execution_count": 109,
   "id": "8dadc05f",
   "metadata": {},
   "outputs": [
    {
     "data": {
      "text/html": [
       "<div>\n",
       "<style scoped>\n",
       "    .dataframe tbody tr th:only-of-type {\n",
       "        vertical-align: middle;\n",
       "    }\n",
       "\n",
       "    .dataframe tbody tr th {\n",
       "        vertical-align: top;\n",
       "    }\n",
       "\n",
       "    .dataframe thead th {\n",
       "        text-align: right;\n",
       "    }\n",
       "</style>\n",
       "<table border=\"1\" class=\"dataframe\">\n",
       "  <thead>\n",
       "    <tr style=\"text-align: right;\">\n",
       "      <th></th>\n",
       "      <th>predicted_score</th>\n",
       "    </tr>\n",
       "  </thead>\n",
       "  <tbody>\n",
       "    <tr>\n",
       "      <th>0</th>\n",
       "      <td>2.3</td>\n",
       "    </tr>\n",
       "    <tr>\n",
       "      <th>1</th>\n",
       "      <td>3.2</td>\n",
       "    </tr>\n",
       "    <tr>\n",
       "      <th>2</th>\n",
       "      <td>2.5</td>\n",
       "    </tr>\n",
       "    <tr>\n",
       "      <th>3</th>\n",
       "      <td>3.1</td>\n",
       "    </tr>\n",
       "    <tr>\n",
       "      <th>4</th>\n",
       "      <td>3.5</td>\n",
       "    </tr>\n",
       "  </tbody>\n",
       "</table>\n",
       "</div>"
      ],
      "text/plain": [
       "   predicted_score\n",
       "0              2.3\n",
       "1              3.2\n",
       "2              2.5\n",
       "3              3.1\n",
       "4              3.5"
      ]
     },
     "execution_count": 109,
     "metadata": {},
     "output_type": "execute_result"
    }
   ],
   "source": [
    "df_data.head()"
   ]
  },
  {
   "cell_type": "code",
   "execution_count": 114,
   "id": "be627008",
   "metadata": {},
   "outputs": [],
   "source": [
    "new=pd.concat([df_test_new,df_data],axis=1, join='inner')"
   ]
  },
  {
   "cell_type": "code",
   "execution_count": 115,
   "id": "10c4a268",
   "metadata": {},
   "outputs": [
    {
     "data": {
      "text/html": [
       "<div>\n",
       "<style scoped>\n",
       "    .dataframe tbody tr th:only-of-type {\n",
       "        vertical-align: middle;\n",
       "    }\n",
       "\n",
       "    .dataframe tbody tr th {\n",
       "        vertical-align: top;\n",
       "    }\n",
       "\n",
       "    .dataframe thead th {\n",
       "        text-align: right;\n",
       "    }\n",
       "</style>\n",
       "<table border=\"1\" class=\"dataframe\">\n",
       "  <thead>\n",
       "    <tr style=\"text-align: right;\">\n",
       "      <th></th>\n",
       "      <th>promptId</th>\n",
       "      <th>uniqueId</th>\n",
       "      <th>essay</th>\n",
       "      <th>predicted_score</th>\n",
       "    </tr>\n",
       "  </thead>\n",
       "  <tbody>\n",
       "    <tr>\n",
       "      <th>0</th>\n",
       "      <td>1</td>\n",
       "      <td>1_315</td>\n",
       "      <td>Curriculum has been adopted in many schools. T...</td>\n",
       "      <td>2.3</td>\n",
       "    </tr>\n",
       "    <tr>\n",
       "      <th>1</th>\n",
       "      <td>1</td>\n",
       "      <td>1_214</td>\n",
       "      <td>I strongly agree with the statement ,  The tig...</td>\n",
       "      <td>3.2</td>\n",
       "    </tr>\n",
       "    <tr>\n",
       "      <th>2</th>\n",
       "      <td>1</td>\n",
       "      <td>1_196</td>\n",
       "      <td>Imagination and creativity is the most importa...</td>\n",
       "      <td>2.5</td>\n",
       "    </tr>\n",
       "    <tr>\n",
       "      <th>3</th>\n",
       "      <td>1</td>\n",
       "      <td>1_178</td>\n",
       "      <td>In our eduction system leaves no room for imag...</td>\n",
       "      <td>3.1</td>\n",
       "    </tr>\n",
       "    <tr>\n",
       "      <th>4</th>\n",
       "      <td>1</td>\n",
       "      <td>1_201</td>\n",
       "      <td>I will agree at some what extend, because if w...</td>\n",
       "      <td>3.5</td>\n",
       "    </tr>\n",
       "  </tbody>\n",
       "</table>\n",
       "</div>"
      ],
      "text/plain": [
       "   promptId uniqueId                                              essay  \\\n",
       "0         1    1_315  Curriculum has been adopted in many schools. T...   \n",
       "1         1    1_214  I strongly agree with the statement ,  The tig...   \n",
       "2         1    1_196  Imagination and creativity is the most importa...   \n",
       "3         1    1_178  In our eduction system leaves no room for imag...   \n",
       "4         1    1_201  I will agree at some what extend, because if w...   \n",
       "\n",
       "   predicted_score  \n",
       "0              2.3  \n",
       "1              3.2  \n",
       "2              2.5  \n",
       "3              3.1  \n",
       "4              3.5  "
      ]
     },
     "execution_count": 115,
     "metadata": {},
     "output_type": "execute_result"
    }
   ],
   "source": [
    "new.head()"
   ]
  },
  {
   "cell_type": "code",
   "execution_count": 121,
   "id": "54472894",
   "metadata": {},
   "outputs": [],
   "source": [
    "new.to_csv('test.csv',index=False)"
   ]
  },
  {
   "cell_type": "code",
   "execution_count": null,
   "id": "b08f5302",
   "metadata": {},
   "outputs": [],
   "source": []
  }
 ],
 "metadata": {
  "kernelspec": {
   "display_name": "Python 3",
   "language": "python",
   "name": "python3"
  },
  "language_info": {
   "codemirror_mode": {
    "name": "ipython",
    "version": 3
   },
   "file_extension": ".py",
   "mimetype": "text/x-python",
   "name": "python",
   "nbconvert_exporter": "python",
   "pygments_lexer": "ipython3",
   "version": "3.9.2"
  }
 },
 "nbformat": 4,
 "nbformat_minor": 5
}
