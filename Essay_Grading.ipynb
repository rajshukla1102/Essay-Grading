{
 "cells": [
  {
   "cell_type": "code",
   "execution_count": 1,
   "id": "e4ae42f9",
   "metadata": {},
   "outputs": [],
   "source": [
    "import pandas as pd\n",
    "import numpy as np\n",
    "import matplotlib.pyplot as plt\n",
    "import seaborn as sns\n",
    "import nltk\n",
    "import re,string\n",
    "import itertools \n",
    "from nltk.stem import WordNetLemmatizer\n",
    "from nltk.corpus import stopwords\n",
    "from string import punctuation\n",
    "from nltk.stem import PorterStemmer\n",
    "from wordcloud import WordCloud, STOPWORDS\n",
    "from gensim.models import Word2Vec\n",
    "import warnings\n",
    "warnings.filterwarnings(\"ignore\")"
   ]
  },
  {
   "cell_type": "code",
   "execution_count": 2,
   "id": "1d1381a9",
   "metadata": {},
   "outputs": [
    {
     "data": {
      "text/plain": [
       "'!\"#$%&\\'()*+,-./:;<=>?@[\\\\]^_`{|}~'"
      ]
     },
     "execution_count": 2,
     "metadata": {},
     "output_type": "execute_result"
    }
   ],
   "source": [
    "punctuation"
   ]
  },
  {
   "cell_type": "code",
   "execution_count": 3,
   "id": "1434c9d7",
   "metadata": {},
   "outputs": [],
   "source": [
    "df_train=pd.read_csv('train.csv')\n",
    "df_test=pd.read_csv('test.csv')"
   ]
  },
  {
   "cell_type": "code",
   "execution_count": 4,
   "id": "99073d6e",
   "metadata": {},
   "outputs": [
    {
     "data": {
      "text/html": [
       "<div>\n",
       "<style scoped>\n",
       "    .dataframe tbody tr th:only-of-type {\n",
       "        vertical-align: middle;\n",
       "    }\n",
       "\n",
       "    .dataframe tbody tr th {\n",
       "        vertical-align: top;\n",
       "    }\n",
       "\n",
       "    .dataframe thead th {\n",
       "        text-align: right;\n",
       "    }\n",
       "</style>\n",
       "<table border=\"1\" class=\"dataframe\">\n",
       "  <thead>\n",
       "    <tr style=\"text-align: right;\">\n",
       "      <th></th>\n",
       "      <th>Unnamed: 0</th>\n",
       "      <th>promptId</th>\n",
       "      <th>uniqueId</th>\n",
       "      <th>essay</th>\n",
       "      <th>evaluator_rating</th>\n",
       "    </tr>\n",
       "  </thead>\n",
       "  <tbody>\n",
       "    <tr>\n",
       "      <th>0</th>\n",
       "      <td>0</td>\n",
       "      <td>1</td>\n",
       "      <td>1_323</td>\n",
       "      <td>At present age, our education system is not go...</td>\n",
       "      <td>3.0</td>\n",
       "    </tr>\n",
       "    <tr>\n",
       "      <th>1</th>\n",
       "      <td>1</td>\n",
       "      <td>1</td>\n",
       "      <td>1_238</td>\n",
       "      <td>I am agree the tightly defined curriculum of o...</td>\n",
       "      <td>4.0</td>\n",
       "    </tr>\n",
       "    <tr>\n",
       "      <th>2</th>\n",
       "      <td>2</td>\n",
       "      <td>1</td>\n",
       "      <td>1_212</td>\n",
       "      <td>I strongly agree with the statement that tight...</td>\n",
       "      <td>2.0</td>\n",
       "    </tr>\n",
       "    <tr>\n",
       "      <th>3</th>\n",
       "      <td>3</td>\n",
       "      <td>1</td>\n",
       "      <td>1_117</td>\n",
       "      <td>Our education system is nice quitely but i dis...</td>\n",
       "      <td>2.0</td>\n",
       "    </tr>\n",
       "    <tr>\n",
       "      <th>4</th>\n",
       "      <td>4</td>\n",
       "      <td>1</td>\n",
       "      <td>1_229</td>\n",
       "      <td>i am totally agree with the statement that tig...</td>\n",
       "      <td>3.0</td>\n",
       "    </tr>\n",
       "  </tbody>\n",
       "</table>\n",
       "</div>"
      ],
      "text/plain": [
       "   Unnamed: 0  promptId uniqueId  \\\n",
       "0           0         1    1_323   \n",
       "1           1         1    1_238   \n",
       "2           2         1    1_212   \n",
       "3           3         1    1_117   \n",
       "4           4         1    1_229   \n",
       "\n",
       "                                               essay  evaluator_rating  \n",
       "0  At present age, our education system is not go...               3.0  \n",
       "1  I am agree the tightly defined curriculum of o...               4.0  \n",
       "2  I strongly agree with the statement that tight...               2.0  \n",
       "3  Our education system is nice quitely but i dis...               2.0  \n",
       "4  i am totally agree with the statement that tig...               3.0  "
      ]
     },
     "execution_count": 4,
     "metadata": {},
     "output_type": "execute_result"
    }
   ],
   "source": [
    "df_train.head()"
   ]
  },
  {
   "cell_type": "code",
   "execution_count": 5,
   "id": "35b1bbd1",
   "metadata": {},
   "outputs": [
    {
     "data": {
      "text/html": [
       "<div>\n",
       "<style scoped>\n",
       "    .dataframe tbody tr th:only-of-type {\n",
       "        vertical-align: middle;\n",
       "    }\n",
       "\n",
       "    .dataframe tbody tr th {\n",
       "        vertical-align: top;\n",
       "    }\n",
       "\n",
       "    .dataframe thead th {\n",
       "        text-align: right;\n",
       "    }\n",
       "</style>\n",
       "<table border=\"1\" class=\"dataframe\">\n",
       "  <thead>\n",
       "    <tr style=\"text-align: right;\">\n",
       "      <th></th>\n",
       "      <th>Unnamed: 0</th>\n",
       "      <th>promptId</th>\n",
       "      <th>uniqueId</th>\n",
       "      <th>essay</th>\n",
       "    </tr>\n",
       "  </thead>\n",
       "  <tbody>\n",
       "    <tr>\n",
       "      <th>0</th>\n",
       "      <td>0</td>\n",
       "      <td>1</td>\n",
       "      <td>1_315</td>\n",
       "      <td>Curriculum has been adopted in many schools. T...</td>\n",
       "    </tr>\n",
       "    <tr>\n",
       "      <th>1</th>\n",
       "      <td>1</td>\n",
       "      <td>1</td>\n",
       "      <td>1_214</td>\n",
       "      <td>I strongly agree with the statement ,  The tig...</td>\n",
       "    </tr>\n",
       "    <tr>\n",
       "      <th>2</th>\n",
       "      <td>2</td>\n",
       "      <td>1</td>\n",
       "      <td>1_196</td>\n",
       "      <td>Imagination and creativity is the most importa...</td>\n",
       "    </tr>\n",
       "    <tr>\n",
       "      <th>3</th>\n",
       "      <td>3</td>\n",
       "      <td>1</td>\n",
       "      <td>1_178</td>\n",
       "      <td>In our eduction system leaves no room for imag...</td>\n",
       "    </tr>\n",
       "    <tr>\n",
       "      <th>4</th>\n",
       "      <td>4</td>\n",
       "      <td>1</td>\n",
       "      <td>1_201</td>\n",
       "      <td>I will agree at some what extend, because if w...</td>\n",
       "    </tr>\n",
       "  </tbody>\n",
       "</table>\n",
       "</div>"
      ],
      "text/plain": [
       "   Unnamed: 0  promptId uniqueId  \\\n",
       "0           0         1    1_315   \n",
       "1           1         1    1_214   \n",
       "2           2         1    1_196   \n",
       "3           3         1    1_178   \n",
       "4           4         1    1_201   \n",
       "\n",
       "                                               essay  \n",
       "0  Curriculum has been adopted in many schools. T...  \n",
       "1  I strongly agree with the statement ,  The tig...  \n",
       "2  Imagination and creativity is the most importa...  \n",
       "3  In our eduction system leaves no room for imag...  \n",
       "4  I will agree at some what extend, because if w...  "
      ]
     },
     "execution_count": 5,
     "metadata": {},
     "output_type": "execute_result"
    }
   ],
   "source": [
    "df_test.head()"
   ]
  },
  {
   "cell_type": "code",
   "execution_count": 6,
   "id": "a4a4a53b",
   "metadata": {},
   "outputs": [],
   "source": [
    "df_train.drop([\"Unnamed: 0\",\"uniqueId\",\"promptId\"],axis=1,inplace=True)\n",
    "df_test.drop([\"Unnamed: 0\",\"uniqueId\",\"promptId\"],axis=1,inplace=True)"
   ]
  },
  {
   "cell_type": "code",
   "execution_count": 7,
   "id": "b003b497",
   "metadata": {},
   "outputs": [
    {
     "data": {
      "text/html": [
       "<div>\n",
       "<style scoped>\n",
       "    .dataframe tbody tr th:only-of-type {\n",
       "        vertical-align: middle;\n",
       "    }\n",
       "\n",
       "    .dataframe tbody tr th {\n",
       "        vertical-align: top;\n",
       "    }\n",
       "\n",
       "    .dataframe thead th {\n",
       "        text-align: right;\n",
       "    }\n",
       "</style>\n",
       "<table border=\"1\" class=\"dataframe\">\n",
       "  <thead>\n",
       "    <tr style=\"text-align: right;\">\n",
       "      <th></th>\n",
       "      <th>essay</th>\n",
       "      <th>evaluator_rating</th>\n",
       "    </tr>\n",
       "  </thead>\n",
       "  <tbody>\n",
       "    <tr>\n",
       "      <th>0</th>\n",
       "      <td>At present age, our education system is not go...</td>\n",
       "      <td>3.0</td>\n",
       "    </tr>\n",
       "    <tr>\n",
       "      <th>1</th>\n",
       "      <td>I am agree the tightly defined curriculum of o...</td>\n",
       "      <td>4.0</td>\n",
       "    </tr>\n",
       "    <tr>\n",
       "      <th>2</th>\n",
       "      <td>I strongly agree with the statement that tight...</td>\n",
       "      <td>2.0</td>\n",
       "    </tr>\n",
       "    <tr>\n",
       "      <th>3</th>\n",
       "      <td>Our education system is nice quitely but i dis...</td>\n",
       "      <td>2.0</td>\n",
       "    </tr>\n",
       "    <tr>\n",
       "      <th>4</th>\n",
       "      <td>i am totally agree with the statement that tig...</td>\n",
       "      <td>3.0</td>\n",
       "    </tr>\n",
       "  </tbody>\n",
       "</table>\n",
       "</div>"
      ],
      "text/plain": [
       "                                               essay  evaluator_rating\n",
       "0  At present age, our education system is not go...               3.0\n",
       "1  I am agree the tightly defined curriculum of o...               4.0\n",
       "2  I strongly agree with the statement that tight...               2.0\n",
       "3  Our education system is nice quitely but i dis...               2.0\n",
       "4  i am totally agree with the statement that tig...               3.0"
      ]
     },
     "execution_count": 7,
     "metadata": {},
     "output_type": "execute_result"
    }
   ],
   "source": [
    "df_train.head()"
   ]
  },
  {
   "cell_type": "code",
   "execution_count": 8,
   "id": "51c01ed9",
   "metadata": {},
   "outputs": [
    {
     "name": "stdout",
     "output_type": "stream",
     "text": [
      "(1240, 2)\n",
      "(305, 1)\n"
     ]
    }
   ],
   "source": [
    "print(df_train.shape)\n",
    "print(df_test.shape)"
   ]
  },
  {
   "cell_type": "code",
   "execution_count": 9,
   "id": "0c34695d",
   "metadata": {},
   "outputs": [
    {
     "data": {
      "text/plain": [
       "essay               0\n",
       "evaluator_rating    0\n",
       "dtype: int64"
      ]
     },
     "execution_count": 9,
     "metadata": {},
     "output_type": "execute_result"
    }
   ],
   "source": [
    "df_train.isna().sum()"
   ]
  },
  {
   "cell_type": "markdown",
   "id": "c074236f",
   "metadata": {},
   "source": [
    "### We can see there is no null values so its good to go ahead"
   ]
  },
  {
   "cell_type": "code",
   "execution_count": 10,
   "id": "fae3cbcf",
   "metadata": {},
   "outputs": [
    {
     "data": {
      "text/plain": [
       "essay    0\n",
       "dtype: int64"
      ]
     },
     "execution_count": 10,
     "metadata": {},
     "output_type": "execute_result"
    }
   ],
   "source": [
    "df_test.isna().sum()"
   ]
  },
  {
   "cell_type": "markdown",
   "id": "3fafd281",
   "metadata": {},
   "source": [
    "### We can see there is no null values in test also"
   ]
  },
  {
   "cell_type": "code",
   "execution_count": 11,
   "id": "3a904e1c",
   "metadata": {},
   "outputs": [
    {
     "name": "stdout",
     "output_type": "stream",
     "text": [
      "<class 'pandas.core.frame.DataFrame'>\n",
      "RangeIndex: 1240 entries, 0 to 1239\n",
      "Data columns (total 2 columns):\n",
      " #   Column            Non-Null Count  Dtype  \n",
      "---  ------            --------------  -----  \n",
      " 0   essay             1240 non-null   object \n",
      " 1   evaluator_rating  1240 non-null   float64\n",
      "dtypes: float64(1), object(1)\n",
      "memory usage: 19.5+ KB\n"
     ]
    }
   ],
   "source": [
    "df_train.info()"
   ]
  },
  {
   "cell_type": "code",
   "execution_count": 12,
   "id": "af73005d",
   "metadata": {},
   "outputs": [
    {
     "data": {
      "text/html": [
       "<div>\n",
       "<style scoped>\n",
       "    .dataframe tbody tr th:only-of-type {\n",
       "        vertical-align: middle;\n",
       "    }\n",
       "\n",
       "    .dataframe tbody tr th {\n",
       "        vertical-align: top;\n",
       "    }\n",
       "\n",
       "    .dataframe thead th {\n",
       "        text-align: right;\n",
       "    }\n",
       "</style>\n",
       "<table border=\"1\" class=\"dataframe\">\n",
       "  <thead>\n",
       "    <tr style=\"text-align: right;\">\n",
       "      <th></th>\n",
       "      <th>evaluator_rating</th>\n",
       "    </tr>\n",
       "  </thead>\n",
       "  <tbody>\n",
       "    <tr>\n",
       "      <th>count</th>\n",
       "      <td>1240.000000</td>\n",
       "    </tr>\n",
       "    <tr>\n",
       "      <th>mean</th>\n",
       "      <td>2.684274</td>\n",
       "    </tr>\n",
       "    <tr>\n",
       "      <th>std</th>\n",
       "      <td>1.082603</td>\n",
       "    </tr>\n",
       "    <tr>\n",
       "      <th>min</th>\n",
       "      <td>0.000000</td>\n",
       "    </tr>\n",
       "    <tr>\n",
       "      <th>25%</th>\n",
       "      <td>2.000000</td>\n",
       "    </tr>\n",
       "    <tr>\n",
       "      <th>50%</th>\n",
       "      <td>3.000000</td>\n",
       "    </tr>\n",
       "    <tr>\n",
       "      <th>75%</th>\n",
       "      <td>3.500000</td>\n",
       "    </tr>\n",
       "    <tr>\n",
       "      <th>max</th>\n",
       "      <td>5.000000</td>\n",
       "    </tr>\n",
       "  </tbody>\n",
       "</table>\n",
       "</div>"
      ],
      "text/plain": [
       "       evaluator_rating\n",
       "count       1240.000000\n",
       "mean           2.684274\n",
       "std            1.082603\n",
       "min            0.000000\n",
       "25%            2.000000\n",
       "50%            3.000000\n",
       "75%            3.500000\n",
       "max            5.000000"
      ]
     },
     "execution_count": 12,
     "metadata": {},
     "output_type": "execute_result"
    }
   ],
   "source": [
    "df_train.describe()\n"
   ]
  },
  {
   "cell_type": "markdown",
   "id": "b6da1d05",
   "metadata": {},
   "source": [
    "#### As we can see max score is 5 and 75% student score is under 3.5 and 25% under 2"
   ]
  },
  {
   "cell_type": "code",
   "execution_count": 13,
   "id": "b9f80306",
   "metadata": {},
   "outputs": [
    {
     "name": "stdout",
     "output_type": "stream",
     "text": [
      "5.0\n",
      "0.0\n"
     ]
    }
   ],
   "source": [
    "print(df_train['evaluator_rating'].max())\n",
    "print(df_train['evaluator_rating'].min())"
   ]
  },
  {
   "cell_type": "code",
   "execution_count": 14,
   "id": "71e8f013",
   "metadata": {},
   "outputs": [
    {
     "name": "stdout",
     "output_type": "stream",
     "text": [
      "evaluator_rating\n",
      "0.0     96\n",
      "0.5      6\n",
      "1.0     30\n",
      "1.5     53\n",
      "2.0    130\n",
      "2.5    223\n",
      "3.0    283\n",
      "3.5    288\n",
      "4.0    101\n",
      "4.5     25\n",
      "5.0      5\n",
      "dtype: int64\n"
     ]
    }
   ],
   "source": [
    "print(df_train.groupby('evaluator_rating').size())"
   ]
  },
  {
   "cell_type": "code",
   "execution_count": 15,
   "id": "fda8da46",
   "metadata": {},
   "outputs": [
    {
     "data": {
      "text/plain": [
       "<AxesSubplot:ylabel='evaluator_rating'>"
      ]
     },
     "execution_count": 15,
     "metadata": {},
     "output_type": "execute_result"
    },
    {
     "data": {
      "image/png": "[encoded data removed]",
      "text/plain": [
       "<Figure size 432x288 with 1 Axes>"
      ]
     },
     "metadata": {
      "needs_background": "light"
     },
     "output_type": "display_data"
    }
   ],
   "source": [
    "df_train.groupby('evaluator_rating').size().plot.barh()"
   ]
  },
  {
   "cell_type": "markdown",
   "id": "2fb76353",
   "metadata": {},
   "source": [
    "### No of student scoring 3.5 is 288 and maximum marks is only obtained by 5 student"
   ]
  },
  {
   "cell_type": "markdown",
   "id": "999a1675",
   "metadata": {},
   "source": [
    "# Preprocessing"
   ]
  },
  {
   "cell_type": "markdown",
   "id": "e574c3e6",
   "metadata": {},
   "source": [
    "Almost every nlp task require to be preprocesses before training model. Here we are processing our data by replacing apostrrophes with standard meaning, lowering text removing stop words and finally lemmatization( I am doing this because in future If I do spell checker it will give benefit) "
   ]
  },
  {
   "cell_type": "code",
   "execution_count": 16,
   "id": "9f81dbdb",
   "metadata": {},
   "outputs": [],
   "source": [
    "stop_words = set(stopwords.words('english'))\n",
    "\n",
    "def cleanData(text, lowercase = False, remove_stops = False, stemming = False, lemmatization = False):\n",
    "    txt = str(text)\n",
    "    # Replace apostrophes with standard lexicons\n",
    "    txt = txt.replace(\"isn't\", \"is not\")\n",
    "    txt = txt.replace(\"aren't\", \"are not\")\n",
    "    txt = txt.replace(\"ain't\", \"am not\")\n",
    "    txt = txt.replace(\"won't\", \"will not\")\n",
    "    txt = txt.replace(\"didn't\", \"did not\")\n",
    "    txt = txt.replace(\"shan't\", \"shall not\")\n",
    "    txt = txt.replace(\"haven't\", \"have not\")\n",
    "    txt = txt.replace(\"hadn't\", \"had not\")\n",
    "    txt = txt.replace(\"hasn't\", \"has not\")\n",
    "    txt = txt.replace(\"don't\", \"do not\")\n",
    "    txt = txt.replace(\"wasn't\", \"was not\")\n",
    "    txt = txt.replace(\"weren't\", \"were not\")\n",
    "    txt = txt.replace(\"doesn't\", \"does not\")\n",
    "    txt = txt.replace(\"'s\", \" is\")\n",
    "    txt = txt.replace(\"'re\", \" are\")\n",
    "    txt = txt.replace(\"'m\", \" am\")\n",
    "    txt = txt.replace(\"'d\", \" would\")\n",
    "    txt = txt.replace(\"'ll\", \" will\")\n",
    "\n",
    "    # More cleaning\n",
    "    txt = re.sub(r\"alot\", \"a lot\", txt)\n",
    "    txt = re.sub(r\"what's\", \"what\", txt)\n",
    "    txt = re.sub(r\"What's\", \"what\", txt)\n",
    "    \n",
    "    \n",
    "    # Remove urls and emails\n",
    "    txt = re.sub(r'^https?:\\/\\/.*[\\r\\n]*', ' ', txt, flags=re.MULTILINE)\n",
    "    txt = re.sub(r'[\\w\\.-]+@[\\w\\.-]+', ' ', txt, flags=re.MULTILINE)\n",
    "    \n",
    "    # Remove punctuation from text\n",
    "    txt = ''.join([c for c in text if c not in punctuation])\n",
    "    \n",
    "    # Remove all symbols\n",
    "    txt = re.sub(r'[^A-Za-z\\s]',r' ',txt)\n",
    "    txt = re.sub(r'\\n',r' ',txt)\n",
    "    \n",
    "    if lowercase:\n",
    "        txt = \" \".join([w.lower() for w in txt.split()])\n",
    "        \n",
    "    if remove_stops:\n",
    "        txt = \" \".join([w for w in txt.split() if w not in stop_words])\n",
    "        \n",
    "    if stemming:\n",
    "        st = PorterStemmer()\n",
    "        txt = \" \".join([st.stem(w) for w in txt.split()])\n",
    "    \n",
    "    if lemmatization:\n",
    "        wordnet_lemmatizer = WordNetLemmatizer()\n",
    "        txt = \" \".join([wordnet_lemmatizer.lemmatize(w, pos='v') for w in txt.split()])\n",
    "\n",
    "    return txt"
   ]
  },
  {
   "cell_type": "code",
   "execution_count": 17,
   "id": "3a434127",
   "metadata": {},
   "outputs": [],
   "source": [
    "df_train['essay'] = df_train['essay'].apply(lambda x: cleanData(x, lowercase=True, remove_stops=True, stemming=False, lemmatization = True))"
   ]
  },
  {
   "cell_type": "code",
   "execution_count": 18,
   "id": "89f86cd6",
   "metadata": {},
   "outputs": [],
   "source": [
    "df_test['essay'] = df_test['essay'].apply(lambda x: cleanData(x, lowercase=True, remove_stops=True, stemming=False, lemmatization = True))"
   ]
  },
  {
   "cell_type": "code",
   "execution_count": 19,
   "id": "86a78cbf",
   "metadata": {},
   "outputs": [
    {
     "data": {
      "text/plain": [
       "0    curriculum adopt many school curriculum great ...\n",
       "1    strongly agree statement tightly define curric...\n",
       "2    imagination creativity important thing develop...\n",
       "3    eduction system leave room imagination creativ...\n",
       "4    agree extend think regular basic university mu...\n",
       "Name: essay, dtype: object"
      ]
     },
     "execution_count": 19,
     "metadata": {},
     "output_type": "execute_result"
    }
   ],
   "source": [
    "df_test['essay'].head()"
   ]
  },
  {
   "cell_type": "code",
   "execution_count": 20,
   "id": "3140882a",
   "metadata": {},
   "outputs": [
    {
     "data": {
      "image/png": "[encoded data removed]",
      "text/plain": [
       "<Figure size 720x1152 with 1 Axes>"
      ]
     },
     "metadata": {
      "needs_background": "light"
     },
     "output_type": "display_data"
    }
   ],
   "source": [
    "wc= WordCloud(width=1600,height=800, margin=0,max_words=500, \n",
    "max_font_size=150, min_font_size=30,).generate(\" \".join(df_train['essay']))\n",
    "plt.figure(figsize=(10, 16))\n",
    "plt.imshow(wc, interpolation=\"nearest\")\n",
    "plt.title('WordCloud of essay', fontsize = 20)\n",
    "plt.axis(\"off\")\n",
    "plt.show()"
   ]
  },
  {
   "cell_type": "markdown",
   "id": "9526a45e",
   "metadata": {},
   "source": [
    "## Model\n",
    "Here we define a 1-Layer LSTM Model and Embedding.\n",
    "Activation fuction used--> Relu"
   ]
  },
  {
   "cell_type": "code",
   "execution_count": 21,
   "id": "5b430822",
   "metadata": {},
   "outputs": [],
   "source": [
    "from tensorflow.keras.layers import Embedding,Dropout,Bidirectional,LSTM,Dense\n",
    "from tensorflow.keras.preprocessing.sequence import pad_sequences\n",
    "from tensorflow.keras.models import Sequential\n",
    "from tensorflow.keras.preprocessing.text import one_hot"
   ]
  },
  {
   "cell_type": "code",
   "execution_count": 22,
   "id": "12c319ce",
   "metadata": {},
   "outputs": [],
   "source": [
    "#vocab size\n",
    "voc_size=6000"
   ]
  },
  {
   "cell_type": "code",
   "execution_count": 23,
   "id": "8e17c38e",
   "metadata": {},
   "outputs": [],
   "source": [
    "onehot_repr_train=[one_hot(words,voc_size)for words in df_train['essay']] \n",
    "onehot_repr_test=[one_hot(words,voc_size)for words in df_test['essay']] "
   ]
  },
  {
   "cell_type": "markdown",
   "id": "a03efd35",
   "metadata": {},
   "source": [
    "One-Hot Encoding. Each words are going to take a particular index for eg. Let say a text=\"rishabh is a good boy. rishabh is \n",
    "hard working boy\". so when we do one-hot it will transform as [[23, 24,5,45,42],[23, 24,34,23,42]]. Here 23 indicates \"rishabh\" and 24 indicates \"is\".\n",
    "#### Note- This index value can be change if we give different vocab size."
   ]
  },
  {
   "cell_type": "code",
   "execution_count": 24,
   "id": "b2478a8e",
   "metadata": {},
   "outputs": [
    {
     "name": "stdout",
     "output_type": "stream",
     "text": [
      "The maximum length in words are : 284\n"
     ]
    }
   ],
   "source": [
    "res = df_train['essay'].str.split().str.len().max()\n",
    "print(\"The maximum length in words are : \" +  str(res)) "
   ]
  },
  {
   "cell_type": "code",
   "execution_count": 25,
   "id": "d48c1d67",
   "metadata": {},
   "outputs": [
    {
     "name": "stdout",
     "output_type": "stream",
     "text": [
      "[[   0    0    0 ... 5961 4111 1818]\n",
      " [   0    0    0 ... 2515 5870 2292]\n",
      " [   0    0    0 ... 4641  374 3969]\n",
      " ...\n",
      " [   0    0    0 ... 1498 5677  905]\n",
      " [   0    0    0 ... 4946 3995 4600]\n",
      " [   0 3098 1851 ... 4709 5449 3546]]\n"
     ]
    }
   ],
   "source": [
    "#Padding given values so every sentence has same dimension\n",
    "sent_length=285\n",
    "oneHotDoc=pad_sequences(onehot_repr_train,padding='pre',maxlen=sent_length)\n",
    "print(oneHotDoc)"
   ]
  },
  {
   "cell_type": "code",
   "execution_count": 26,
   "id": "aacd5774",
   "metadata": {},
   "outputs": [],
   "source": [
    "def myModel():\n",
    "    embedding_vector_features=200\n",
    "    model = Sequential()\n",
    "    model.add(Embedding(voc_size,embedding_vector_features,input_length=sent_length))\n",
    "    model.add(Bidirectional(LSTM(100, recurrent_dropout=0.4)))\n",
    "    model.add(Dropout(0.5))\n",
    "    model.add(Dense(1, activation='relu'))\n",
    "    model.compile(loss='mean_squared_error', optimizer='rmsprop', metrics=['mae'])\n",
    "    model.summary()\n",
    "    return model"
   ]
  },
  {
   "cell_type": "code",
   "execution_count": 27,
   "id": "d7a4be1a",
   "metadata": {},
   "outputs": [
    {
     "data": {
      "text/plain": [
       "array([[   0,    0,    0, ..., 5961, 4111, 1818],\n",
       "       [   0,    0,    0, ..., 2515, 5870, 2292],\n",
       "       [   0,    0,    0, ..., 4641,  374, 3969],\n",
       "       ...,\n",
       "       [   0,    0,    0, ..., 1498, 5677,  905],\n",
       "       [   0,    0,    0, ..., 4946, 3995, 4600],\n",
       "       [   0, 3098, 1851, ..., 4709, 5449, 3546]])"
      ]
     },
     "execution_count": 27,
     "metadata": {},
     "output_type": "execute_result"
    }
   ],
   "source": [
    "X_final=np.array(oneHotDoc)\n",
    "y_final=np.array(df_train['evaluator_rating'])\n",
    "X_final"
   ]
  },
  {
   "cell_type": "code",
   "execution_count": 28,
   "id": "0932c32c",
   "metadata": {},
   "outputs": [],
   "source": [
    "from sklearn.model_selection import train_test_split\n",
    "X_train, X_test, y_train, y_test = train_test_split(X_final, y_final, test_size=0.33, random_state=42)"
   ]
  },
  {
   "cell_type": "code",
   "execution_count": 29,
   "id": "01469499",
   "metadata": {},
   "outputs": [
    {
     "name": "stdout",
     "output_type": "stream",
     "text": [
      "(830, 285)\n",
      "(830,)\n",
      "(410, 285)\n",
      "(410,)\n"
     ]
    }
   ],
   "source": [
    "print(X_train.shape)\n",
    "print(y_train.shape)\n",
    "print(X_test.shape)\n",
    "print(y_test.shape)"
   ]
  },
  {
   "cell_type": "code",
   "execution_count": 30,
   "id": "4f3531c9",
   "metadata": {},
   "outputs": [
    {
     "name": "stdout",
     "output_type": "stream",
     "text": [
      "Model: \"sequential\"\n",
      "_________________________________________________________________\n",
      "Layer (type)                 Output Shape              Param #   \n",
      "=================================================================\n",
      "embedding (Embedding)        (None, 285, 200)          1200000   \n",
      "_________________________________________________________________\n",
      "bidirectional (Bidirectional (None, 200)               240800    \n",
      "_________________________________________________________________\n",
      "dropout (Dropout)            (None, 200)               0         \n",
      "_________________________________________________________________\n",
      "dense (Dense)                (None, 1)                 201       \n",
      "=================================================================\n",
      "Total params: 1,441,001\n",
      "Trainable params: 1,441,001\n",
      "Non-trainable params: 0\n",
      "_________________________________________________________________\n"
     ]
    }
   ],
   "source": [
    "lstm_model = myModel()"
   ]
  },
  {
   "cell_type": "code",
   "execution_count": 31,
   "id": "55f4ad89",
   "metadata": {},
   "outputs": [
    {
     "name": "stdout",
     "output_type": "stream",
     "text": [
      "Epoch 1/10\n",
      "13/13 [==============================] - 32s 2s/step - loss: 2.6751 - mae: 1.2764\n",
      "Epoch 2/10\n",
      "13/13 [==============================] - 27s 2s/step - loss: 1.3965 - mae: 0.9152\n",
      "Epoch 3/10\n",
      "13/13 [==============================] - 24s 2s/step - loss: 1.1391 - mae: 0.8205\n",
      "Epoch 4/10\n",
      "13/13 [==============================] - 28s 2s/step - loss: 1.2381 - mae: 0.8745\n",
      "Epoch 5/10\n",
      "13/13 [==============================] - 26s 2s/step - loss: 0.6710 - mae: 0.6446\n",
      "Epoch 6/10\n",
      "13/13 [==============================] - 28s 2s/step - loss: 0.5812 - mae: 0.6087\n",
      "Epoch 7/10\n",
      "13/13 [==============================] - 26s 2s/step - loss: 0.3797 - mae: 0.4869\n",
      "Epoch 8/10\n",
      "13/13 [==============================] - 27s 2s/step - loss: 0.3465 - mae: 0.4516\n",
      "Epoch 9/10\n",
      "13/13 [==============================] - 26s 2s/step - loss: 0.2918 - mae: 0.4141\n",
      "Epoch 10/10\n",
      "13/13 [==============================] - 26s 2s/step - loss: 0.2966 - mae: 0.4326\n"
     ]
    },
    {
     "data": {
      "text/plain": [
       "<keras.callbacks.History at 0x235e8e5b730>"
      ]
     },
     "execution_count": 31,
     "metadata": {},
     "output_type": "execute_result"
    }
   ],
   "source": [
    "lstm_model.fit(X_train, y_train, batch_size=64, epochs=10)"
   ]
  },
  {
   "cell_type": "code",
   "execution_count": 32,
   "id": "bbb12293",
   "metadata": {},
   "outputs": [],
   "source": [
    "y_pred = lstm_model.predict(X_test)"
   ]
  },
  {
   "cell_type": "code",
   "execution_count": 33,
   "id": "067b3b55",
   "metadata": {},
   "outputs": [
    {
     "data": {
      "text/plain": [
       "array([[2.4084723 ],\n",
       "       [3.4325888 ],\n",
       "       [2.3818944 ],\n",
       "       [3.2036848 ],\n",
       "       [3.1177657 ],\n",
       "       [1.6744512 ],\n",
       "       [1.5749406 ],\n",
       "       [3.04763   ],\n",
       "       [2.5734382 ],\n",
       "       [2.485934  ],\n",
       "       [1.7771107 ],\n",
       "       [2.3573568 ],\n",
       "       [2.6890695 ],\n",
       "       [2.581239  ],\n",
       "       [3.0991375 ],\n",
       "       [2.5746996 ],\n",
       "       [2.3776584 ],\n",
       "       [2.3896387 ],\n",
       "       [2.2221115 ],\n",
       "       [2.8709166 ],\n",
       "       [1.8870579 ],\n",
       "       [2.7145147 ],\n",
       "       [1.6513342 ],\n",
       "       [2.3010657 ],\n",
       "       [2.3937018 ],\n",
       "       [0.8853    ],\n",
       "       [2.602664  ],\n",
       "       [2.962452  ],\n",
       "       [3.4071958 ],\n",
       "       [2.0819695 ],\n",
       "       [2.3427103 ],\n",
       "       [3.1255748 ],\n",
       "       [3.3348157 ],\n",
       "       [2.9244993 ],\n",
       "       [1.8908724 ],\n",
       "       [3.0870035 ],\n",
       "       [3.3739712 ],\n",
       "       [2.1507814 ],\n",
       "       [2.354299  ],\n",
       "       [1.3793672 ],\n",
       "       [2.872063  ],\n",
       "       [3.410589  ],\n",
       "       [2.0129995 ],\n",
       "       [2.8881476 ],\n",
       "       [3.004908  ],\n",
       "       [3.2413092 ],\n",
       "       [2.870262  ],\n",
       "       [3.1820714 ],\n",
       "       [2.1660926 ],\n",
       "       [1.0920514 ],\n",
       "       [3.4813612 ],\n",
       "       [2.9433038 ],\n",
       "       [2.312688  ],\n",
       "       [2.6763911 ],\n",
       "       [2.184563  ],\n",
       "       [3.2654243 ],\n",
       "       [2.597991  ],\n",
       "       [3.7443895 ],\n",
       "       [2.753403  ],\n",
       "       [3.4467201 ],\n",
       "       [1.3922225 ],\n",
       "       [2.5438673 ],\n",
       "       [2.3653524 ],\n",
       "       [2.950947  ],\n",
       "       [2.6480172 ],\n",
       "       [2.614278  ],\n",
       "       [3.5704925 ],\n",
       "       [0.7077599 ],\n",
       "       [2.7830236 ],\n",
       "       [1.8240751 ],\n",
       "       [2.0094717 ],\n",
       "       [2.98816   ],\n",
       "       [2.688256  ],\n",
       "       [3.220661  ],\n",
       "       [2.5917919 ],\n",
       "       [0.7152332 ],\n",
       "       [2.3565776 ],\n",
       "       [2.8888228 ],\n",
       "       [2.6042535 ],\n",
       "       [2.8964722 ],\n",
       "       [2.610078  ],\n",
       "       [3.0087335 ],\n",
       "       [3.032173  ],\n",
       "       [3.4136207 ],\n",
       "       [3.0496962 ],\n",
       "       [0.9958854 ],\n",
       "       [2.9423988 ],\n",
       "       [1.8296438 ],\n",
       "       [2.8646793 ],\n",
       "       [2.3131711 ],\n",
       "       [2.769943  ],\n",
       "       [2.6330254 ],\n",
       "       [2.478688  ],\n",
       "       [3.1116426 ],\n",
       "       [2.767604  ],\n",
       "       [3.6217792 ],\n",
       "       [2.6722064 ],\n",
       "       [3.102004  ],\n",
       "       [3.0065026 ],\n",
       "       [2.6835248 ],\n",
       "       [1.9359001 ],\n",
       "       [1.8056344 ],\n",
       "       [2.3744025 ],\n",
       "       [2.6263528 ],\n",
       "       [3.1409879 ],\n",
       "       [2.457792  ],\n",
       "       [1.2195596 ],\n",
       "       [2.069359  ],\n",
       "       [2.5661802 ],\n",
       "       [2.8165524 ],\n",
       "       [3.4675195 ],\n",
       "       [2.876516  ],\n",
       "       [2.376929  ],\n",
       "       [1.1899999 ],\n",
       "       [2.380612  ],\n",
       "       [2.331291  ],\n",
       "       [2.7718272 ],\n",
       "       [2.9742656 ],\n",
       "       [2.9582455 ],\n",
       "       [1.9005386 ],\n",
       "       [3.25789   ],\n",
       "       [2.9396966 ],\n",
       "       [1.8524565 ],\n",
       "       [3.0394204 ],\n",
       "       [2.7415078 ],\n",
       "       [2.3087962 ],\n",
       "       [3.1618059 ],\n",
       "       [1.0269574 ],\n",
       "       [2.0266151 ],\n",
       "       [1.8436226 ],\n",
       "       [0.77615243],\n",
       "       [2.7932858 ],\n",
       "       [2.4769785 ],\n",
       "       [2.848101  ],\n",
       "       [2.6472576 ],\n",
       "       [2.962182  ],\n",
       "       [1.955293  ],\n",
       "       [2.951643  ],\n",
       "       [2.109066  ],\n",
       "       [0.85827607],\n",
       "       [2.5430186 ],\n",
       "       [2.4498293 ],\n",
       "       [2.7219942 ],\n",
       "       [3.0440595 ],\n",
       "       [2.9516933 ],\n",
       "       [2.3632553 ],\n",
       "       [2.1694477 ],\n",
       "       [1.4277176 ],\n",
       "       [2.7644427 ],\n",
       "       [2.0026157 ],\n",
       "       [1.1493348 ],\n",
       "       [3.5057023 ],\n",
       "       [3.0874946 ],\n",
       "       [1.2715327 ],\n",
       "       [3.406071  ],\n",
       "       [3.0728152 ],\n",
       "       [0.6265957 ],\n",
       "       [2.5870311 ],\n",
       "       [3.0350888 ],\n",
       "       [3.552037  ],\n",
       "       [2.2374768 ],\n",
       "       [0.47618878],\n",
       "       [2.4847753 ],\n",
       "       [2.9199517 ],\n",
       "       [0.2336271 ],\n",
       "       [1.8303925 ],\n",
       "       [2.4550483 ],\n",
       "       [0.8376884 ],\n",
       "       [3.1812994 ],\n",
       "       [2.0657122 ],\n",
       "       [2.1331213 ],\n",
       "       [3.2957098 ],\n",
       "       [2.0354793 ],\n",
       "       [3.1445968 ],\n",
       "       [2.6732097 ],\n",
       "       [2.4964144 ],\n",
       "       [3.0126944 ],\n",
       "       [3.065058  ],\n",
       "       [2.016305  ],\n",
       "       [2.8528445 ],\n",
       "       [3.095135  ],\n",
       "       [2.7537882 ],\n",
       "       [1.9976753 ],\n",
       "       [1.4948453 ],\n",
       "       [2.6769192 ],\n",
       "       [3.090037  ],\n",
       "       [2.1789198 ],\n",
       "       [2.4586723 ],\n",
       "       [2.7619162 ],\n",
       "       [2.9023678 ],\n",
       "       [2.526669  ],\n",
       "       [2.296021  ],\n",
       "       [2.0805626 ],\n",
       "       [2.4761903 ],\n",
       "       [2.4777384 ],\n",
       "       [3.1979373 ],\n",
       "       [1.1419581 ],\n",
       "       [0.        ],\n",
       "       [2.6788647 ],\n",
       "       [2.6916363 ],\n",
       "       [3.0172477 ],\n",
       "       [1.0429257 ],\n",
       "       [2.0239882 ],\n",
       "       [1.9300243 ],\n",
       "       [0.23105796],\n",
       "       [2.45902   ],\n",
       "       [2.1304193 ],\n",
       "       [2.0065053 ],\n",
       "       [1.9976429 ],\n",
       "       [1.9258884 ],\n",
       "       [1.674965  ],\n",
       "       [3.2428625 ],\n",
       "       [2.4737623 ],\n",
       "       [2.9908435 ],\n",
       "       [1.4560503 ],\n",
       "       [3.0391107 ],\n",
       "       [2.9415553 ],\n",
       "       [2.544952  ],\n",
       "       [2.9265854 ],\n",
       "       [3.1184096 ],\n",
       "       [2.64838   ],\n",
       "       [1.831215  ],\n",
       "       [2.734989  ],\n",
       "       [2.2568572 ],\n",
       "       [2.8716903 ],\n",
       "       [3.0907905 ],\n",
       "       [2.9356873 ],\n",
       "       [2.1946146 ],\n",
       "       [1.8355106 ],\n",
       "       [1.6398247 ],\n",
       "       [1.2841929 ],\n",
       "       [2.239828  ],\n",
       "       [3.0799425 ],\n",
       "       [2.0988863 ],\n",
       "       [2.6855872 ],\n",
       "       [1.395414  ],\n",
       "       [2.5476577 ],\n",
       "       [3.3845694 ],\n",
       "       [1.8804632 ],\n",
       "       [2.2284508 ],\n",
       "       [2.037573  ],\n",
       "       [2.8594584 ],\n",
       "       [2.6517346 ],\n",
       "       [3.1737273 ],\n",
       "       [2.2274275 ],\n",
       "       [3.3408496 ],\n",
       "       [1.8985373 ],\n",
       "       [2.505505  ],\n",
       "       [1.7777804 ],\n",
       "       [2.7727017 ],\n",
       "       [2.1622038 ],\n",
       "       [1.8280963 ],\n",
       "       [2.3355849 ],\n",
       "       [2.088304  ],\n",
       "       [2.3028977 ],\n",
       "       [2.5470917 ],\n",
       "       [1.8062032 ],\n",
       "       [1.7607273 ],\n",
       "       [1.9784063 ],\n",
       "       [2.6520588 ],\n",
       "       [2.0651143 ],\n",
       "       [2.4358606 ],\n",
       "       [2.323154  ],\n",
       "       [2.3356745 ],\n",
       "       [2.0764763 ],\n",
       "       [2.3814828 ],\n",
       "       [1.750568  ],\n",
       "       [2.5628412 ],\n",
       "       [0.8187118 ],\n",
       "       [2.2321668 ],\n",
       "       [1.7773913 ],\n",
       "       [3.0011208 ],\n",
       "       [2.2458646 ],\n",
       "       [2.027836  ],\n",
       "       [1.7713765 ],\n",
       "       [2.4642587 ],\n",
       "       [3.5812025 ],\n",
       "       [2.5857298 ],\n",
       "       [3.0295975 ],\n",
       "       [3.1120675 ],\n",
       "       [1.1045138 ],\n",
       "       [2.9715726 ],\n",
       "       [1.709324  ],\n",
       "       [2.4869263 ],\n",
       "       [3.3589704 ],\n",
       "       [2.6965318 ],\n",
       "       [3.1093817 ],\n",
       "       [2.4396212 ],\n",
       "       [3.0352519 ],\n",
       "       [2.0600648 ],\n",
       "       [2.546124  ],\n",
       "       [2.7157302 ],\n",
       "       [0.6997598 ],\n",
       "       [2.4293172 ],\n",
       "       [2.388418  ],\n",
       "       [2.623167  ],\n",
       "       [2.2684534 ],\n",
       "       [2.0986793 ],\n",
       "       [2.739568  ],\n",
       "       [1.5879837 ],\n",
       "       [0.9480894 ],\n",
       "       [1.078739  ],\n",
       "       [2.3250558 ],\n",
       "       [2.6970382 ],\n",
       "       [1.6978816 ],\n",
       "       [3.264571  ],\n",
       "       [0.86115164],\n",
       "       [2.8197608 ],\n",
       "       [3.601556  ],\n",
       "       [2.9393117 ],\n",
       "       [2.9412677 ],\n",
       "       [2.7224104 ],\n",
       "       [2.6716013 ],\n",
       "       [2.700682  ],\n",
       "       [0.7281826 ],\n",
       "       [3.2703865 ],\n",
       "       [2.4017105 ],\n",
       "       [3.1936991 ],\n",
       "       [1.9282988 ],\n",
       "       [2.630857  ],\n",
       "       [1.8548385 ],\n",
       "       [3.1609917 ],\n",
       "       [2.694239  ],\n",
       "       [2.3851871 ],\n",
       "       [2.7148085 ],\n",
       "       [2.516648  ],\n",
       "       [1.0468696 ],\n",
       "       [0.9215584 ],\n",
       "       [2.7989938 ],\n",
       "       [3.13472   ],\n",
       "       [2.4120233 ],\n",
       "       [2.7548542 ],\n",
       "       [2.247337  ],\n",
       "       [2.3141856 ],\n",
       "       [1.2133943 ],\n",
       "       [2.2789247 ],\n",
       "       [2.9973848 ],\n",
       "       [2.6638305 ],\n",
       "       [1.9653517 ],\n",
       "       [2.4295747 ],\n",
       "       [2.5221167 ],\n",
       "       [2.595115  ],\n",
       "       [3.4095304 ],\n",
       "       [1.9885207 ],\n",
       "       [0.90436935],\n",
       "       [2.7630932 ],\n",
       "       [2.5674748 ],\n",
       "       [2.135687  ],\n",
       "       [2.6719027 ],\n",
       "       [2.4626768 ],\n",
       "       [3.3293777 ],\n",
       "       [2.8917055 ],\n",
       "       [3.1621246 ],\n",
       "       [2.2269175 ],\n",
       "       [2.6274025 ],\n",
       "       [2.8699539 ],\n",
       "       [2.5233247 ],\n",
       "       [1.1395396 ],\n",
       "       [1.222788  ],\n",
       "       [2.2153046 ],\n",
       "       [2.7608874 ],\n",
       "       [2.6396196 ],\n",
       "       [2.696269  ],\n",
       "       [3.1582644 ],\n",
       "       [1.9673651 ],\n",
       "       [1.9663526 ],\n",
       "       [1.6105691 ],\n",
       "       [2.000295  ],\n",
       "       [1.7722493 ],\n",
       "       [2.5838175 ],\n",
       "       [2.4810956 ],\n",
       "       [2.2075186 ],\n",
       "       [2.4557068 ],\n",
       "       [2.4105585 ],\n",
       "       [2.3615453 ],\n",
       "       [3.3014317 ],\n",
       "       [2.0043805 ],\n",
       "       [1.9272496 ],\n",
       "       [2.4407232 ],\n",
       "       [2.1631641 ],\n",
       "       [3.0227098 ],\n",
       "       [2.5814643 ],\n",
       "       [2.8608642 ],\n",
       "       [2.3887246 ],\n",
       "       [2.6884234 ],\n",
       "       [3.212146  ],\n",
       "       [2.8657467 ],\n",
       "       [2.7927575 ],\n",
       "       [1.8521532 ],\n",
       "       [3.3708603 ],\n",
       "       [2.2118502 ],\n",
       "       [1.916015  ],\n",
       "       [2.5071042 ],\n",
       "       [3.359582  ],\n",
       "       [2.418514  ],\n",
       "       [2.964043  ],\n",
       "       [1.8826569 ],\n",
       "       [2.163907  ],\n",
       "       [3.113616  ],\n",
       "       [3.066585  ],\n",
       "       [1.121386  ],\n",
       "       [1.5940832 ],\n",
       "       [2.2121203 ],\n",
       "       [2.691457  ],\n",
       "       [2.9909627 ],\n",
       "       [1.3786887 ],\n",
       "       [0.6174066 ],\n",
       "       [1.8668221 ],\n",
       "       [2.8607056 ],\n",
       "       [2.0607538 ]], dtype=float32)"
      ]
     },
     "execution_count": 33,
     "metadata": {},
     "output_type": "execute_result"
    }
   ],
   "source": [
    "y_pred"
   ]
  },
  {
   "cell_type": "code",
   "execution_count": 34,
   "id": "19d45dbd",
   "metadata": {},
   "outputs": [],
   "source": [
    "from sklearn.metrics import mean_squared_error"
   ]
  },
  {
   "cell_type": "code",
   "execution_count": 35,
   "id": "db1bd6a0",
   "metadata": {},
   "outputs": [
    {
     "data": {
      "text/plain": [
       "1.1443372380341497"
      ]
     },
     "execution_count": 35,
     "metadata": {},
     "output_type": "execute_result"
    }
   ],
   "source": [
    "mean_squared_error(y_pred,y_test)\n",
    "#epoch =50 we get mse 1.3529 vocab_size is 2000\n",
    "#epoch=70 we get mse 1.3514 vocab_size is 2000\n",
    "#epoch =50 we get mse 1.4 vocab_size is 2000\n",
    "#epoch =70 Bidirectional LSTM mse 1.19 voacb_size is 8000 Vector dimension is 200\n",
    "#epoch =100 Bidirectional LSTM mse 1.17 voacb_size is 8000 Vector dimension is 200\n",
    "#epoch =1500 Bidirectional LSTM mse 1.10 voacb_size is 8000 Vector dimension is 200"
   ]
  },
  {
   "cell_type": "code",
   "execution_count": 36,
   "id": "d5befb99",
   "metadata": {},
   "outputs": [],
   "source": [
    "sent_length=285\n",
    "embedded_docs_test=pad_sequences(onehot_repr_test,padding='pre',maxlen=sent_length)"
   ]
  },
  {
   "cell_type": "code",
   "execution_count": 37,
   "id": "05d054b7",
   "metadata": {},
   "outputs": [],
   "source": [
    "X_new=np.array(embedded_docs_test)"
   ]
  },
  {
   "cell_type": "code",
   "execution_count": 38,
   "id": "195e1021",
   "metadata": {},
   "outputs": [
    {
     "data": {
      "text/plain": [
       "array([[   0,    0,    0, ..., 2678, 2455, 5626],\n",
       "       [   0,    0,    0, ..., 4438, 5200, 3601],\n",
       "       [   0,    0,    0, ..., 4496, 1737, 4745],\n",
       "       ...,\n",
       "       [   0,    0,    0, ..., 2629, 4340, 1518],\n",
       "       [   0,    0,    0, ..., 3570, 5677, 4419],\n",
       "       [   0,    0,    0, ..., 3570,  168, 3314]])"
      ]
     },
     "execution_count": 38,
     "metadata": {},
     "output_type": "execute_result"
    }
   ],
   "source": [
    "X_new"
   ]
  },
  {
   "cell_type": "code",
   "execution_count": 39,
   "id": "4d70320e",
   "metadata": {},
   "outputs": [],
   "source": [
    "y_pred_new = lstm_model.predict(X_new)"
   ]
  },
  {
   "cell_type": "code",
   "execution_count": 40,
   "id": "51e14eed",
   "metadata": {},
   "outputs": [
    {
     "data": {
      "text/plain": [
       "(305, 1)"
      ]
     },
     "execution_count": 40,
     "metadata": {},
     "output_type": "execute_result"
    }
   ],
   "source": [
    "y_pred_new.shape"
   ]
  },
  {
   "cell_type": "code",
   "execution_count": 41,
   "id": "6e8ca6d5",
   "metadata": {},
   "outputs": [
    {
     "data": {
      "text/plain": [
       "array([2.5, 3.2, 2.3, 3.4, 2.4, 3. , 2.5, 1.7, 1.6, 2.8, 2.1, 2.8, 2.4,\n",
       "       2.9, 1.8, 2.5, 2.3, 2.4, 3.1, 1.6, 2.8, 2.1, 2.4, 2.8, 1.5, 2.6,\n",
       "       3.2, 2.8, 1.7, 1.3, 3. , 2.8, 2.4, 3. , 2.5, 2.7, 2.3, 2.4, 3.5,\n",
       "       1.2, 3. , 1.9, 3.4, 2.6, 2.2, 3. , 2.9, 3. , 3.1, 2.6, 2. , 2.7,\n",
       "       3. , 2.5, 2.7, 1.5, 2.2, 2. , 2. , 2.8, 2.7, 2.7, 2.8, 2.9, 2.4,\n",
       "       2.6, 2.3, 0.8, 2.9, 2. , 2.3, 2.8, 2.7, 2.6, 2. , 2.7, 1.8, 2.4,\n",
       "       2.4, 2.8, 3. , 2.9, 2. , 3.2, 2.3, 2.9, 2. , 2. , 1.9, 1.7, 2.4,\n",
       "       2.5, 1.3, 3. , 1.4, 1.6, 2.5, 2.6, 3. , 1.6, 2.8, 3. , 2.1, 2. ,\n",
       "       2.4, 3.3, 2.3, 2.1, 1.3, 2.5, 3.1, 2.3, 2.1, 1. , 2.4, 2.6, 2.1,\n",
       "       2.5, 3.3, 2.8, 2.4, 2.7, 2. , 2.8, 2.6, 2.1, 2.3, 2.4, 2.8, 2.4,\n",
       "       3.9, 2.9, 1.9, 3.3, 2.1, 2.1, 3.2, 1.6, 1.7, 3.3, 0. , 1.4, 2.2,\n",
       "       2.1, 2.9, 3. , 2. , 2.9, 3. , 2. , 3. , 2.8, 2.9, 1.9, 3.7, 1.6,\n",
       "       3.3, 1.5, 2.9, 2.2, 3.2, 1.6, 3. , 1.5, 2.7, 3. , 3.4, 3. , 2.7,\n",
       "       2.4, 2.7, 2.9, 3.3, 2.9, 3.2, 3.2, 2.2, 2.7, 2.7, 3.3, 3.2, 2.9,\n",
       "       3.5, 3. , 2.6, 2.7, 1.1, 2.6, 2.3, 3.5, 2.8, 2.6, 2.8, 3.1, 2.2,\n",
       "       2.4, 2.5, 3.2, 1.7, 3.5, 2.4, 3.4, 3.2, 2.1, 2.3, 2.7, 2.4, 1.3,\n",
       "       1.9, 2.2, 3.4, 3.6, 2.7, 2.7, 2.7, 2.9, 3.2, 0. , 3. , 3. , 3.2,\n",
       "       2.7, 2.7, 2.4, 2.8, 3.1, 3.3, 1.4, 2.7, 2.7, 1.6, 1.9, 1.5, 0.7,\n",
       "       1.8, 2.6, 2.2, 3.2, 2.2, 1.8, 2.4, 2.5, 2.2, 2.4, 2.2, 2.2, 2.9,\n",
       "       2.8, 1.2, 2.6, 2.1, 2.7, 1.1, 0.3, 2.9, 2.6, 2.5, 2. , 2.3, 0. ,\n",
       "       2.1, 2. , 1.3, 2.8, 1.3, 3.1, 2.5, 2.1, 2.5, 2.1, 2. , 0.1, 2.4,\n",
       "       2.3, 1.7, 3. , 1.3, 1.6, 2.5, 3. , 3. , 1. , 2.1, 1.7, 0.9, 1. ,\n",
       "       2.6, 2.5, 0.9, 2.3, 1.6, 1.9, 3.1, 3.3, 2.8, 2.3, 2.4, 2.6, 3.1,\n",
       "       2.1, 1.6, 1.3, 2.7, 2.6, 1.6], dtype=float32)"
      ]
     },
     "execution_count": 41,
     "metadata": {},
     "output_type": "execute_result"
    }
   ],
   "source": [
    "yete=y_pred_new.flatten().round(1)\n",
    "yete"
   ]
  },
  {
   "cell_type": "code",
   "execution_count": 42,
   "id": "58d2474d",
   "metadata": {},
   "outputs": [],
   "source": [
    "df_test_new=pd.read_csv('test.csv')"
   ]
  },
  {
   "cell_type": "code",
   "execution_count": 43,
   "id": "3037a320",
   "metadata": {},
   "outputs": [],
   "source": [
    "df_test_new.drop([\"Unnamed: 0\"],axis=1,inplace=True)"
   ]
  },
  {
   "cell_type": "code",
   "execution_count": 44,
   "id": "65e5f519",
   "metadata": {},
   "outputs": [
    {
     "data": {
      "text/html": [
       "<div>\n",
       "<style scoped>\n",
       "    .dataframe tbody tr th:only-of-type {\n",
       "        vertical-align: middle;\n",
       "    }\n",
       "\n",
       "    .dataframe tbody tr th {\n",
       "        vertical-align: top;\n",
       "    }\n",
       "\n",
       "    .dataframe thead th {\n",
       "        text-align: right;\n",
       "    }\n",
       "</style>\n",
       "<table border=\"1\" class=\"dataframe\">\n",
       "  <thead>\n",
       "    <tr style=\"text-align: right;\">\n",
       "      <th></th>\n",
       "      <th>promptId</th>\n",
       "      <th>uniqueId</th>\n",
       "      <th>essay</th>\n",
       "    </tr>\n",
       "  </thead>\n",
       "  <tbody>\n",
       "    <tr>\n",
       "      <th>0</th>\n",
       "      <td>1</td>\n",
       "      <td>1_315</td>\n",
       "      <td>Curriculum has been adopted in many schools. T...</td>\n",
       "    </tr>\n",
       "    <tr>\n",
       "      <th>1</th>\n",
       "      <td>1</td>\n",
       "      <td>1_214</td>\n",
       "      <td>I strongly agree with the statement ,  The tig...</td>\n",
       "    </tr>\n",
       "    <tr>\n",
       "      <th>2</th>\n",
       "      <td>1</td>\n",
       "      <td>1_196</td>\n",
       "      <td>Imagination and creativity is the most importa...</td>\n",
       "    </tr>\n",
       "    <tr>\n",
       "      <th>3</th>\n",
       "      <td>1</td>\n",
       "      <td>1_178</td>\n",
       "      <td>In our eduction system leaves no room for imag...</td>\n",
       "    </tr>\n",
       "    <tr>\n",
       "      <th>4</th>\n",
       "      <td>1</td>\n",
       "      <td>1_201</td>\n",
       "      <td>I will agree at some what extend, because if w...</td>\n",
       "    </tr>\n",
       "  </tbody>\n",
       "</table>\n",
       "</div>"
      ],
      "text/plain": [
       "   promptId uniqueId                                              essay\n",
       "0         1    1_315  Curriculum has been adopted in many schools. T...\n",
       "1         1    1_214  I strongly agree with the statement ,  The tig...\n",
       "2         1    1_196  Imagination and creativity is the most importa...\n",
       "3         1    1_178  In our eduction system leaves no room for imag...\n",
       "4         1    1_201  I will agree at some what extend, because if w..."
      ]
     },
     "execution_count": 44,
     "metadata": {},
     "output_type": "execute_result"
    }
   ],
   "source": [
    "df_test_new.head()"
   ]
  },
  {
   "cell_type": "code",
   "execution_count": 45,
   "id": "de806a7a",
   "metadata": {},
   "outputs": [],
   "source": [
    "df_data=pd.DataFrame({'predicted_score':yete})"
   ]
  },
  {
   "cell_type": "code",
   "execution_count": 46,
   "id": "8dadc05f",
   "metadata": {},
   "outputs": [
    {
     "data": {
      "text/html": [
       "<div>\n",
       "<style scoped>\n",
       "    .dataframe tbody tr th:only-of-type {\n",
       "        vertical-align: middle;\n",
       "    }\n",
       "\n",
       "    .dataframe tbody tr th {\n",
       "        vertical-align: top;\n",
       "    }\n",
       "\n",
       "    .dataframe thead th {\n",
       "        text-align: right;\n",
       "    }\n",
       "</style>\n",
       "<table border=\"1\" class=\"dataframe\">\n",
       "  <thead>\n",
       "    <tr style=\"text-align: right;\">\n",
       "      <th></th>\n",
       "      <th>predicted_score</th>\n",
       "    </tr>\n",
       "  </thead>\n",
       "  <tbody>\n",
       "    <tr>\n",
       "      <th>0</th>\n",
       "      <td>2.5</td>\n",
       "    </tr>\n",
       "    <tr>\n",
       "      <th>1</th>\n",
       "      <td>3.2</td>\n",
       "    </tr>\n",
       "    <tr>\n",
       "      <th>2</th>\n",
       "      <td>2.3</td>\n",
       "    </tr>\n",
       "    <tr>\n",
       "      <th>3</th>\n",
       "      <td>3.4</td>\n",
       "    </tr>\n",
       "    <tr>\n",
       "      <th>4</th>\n",
       "      <td>2.4</td>\n",
       "    </tr>\n",
       "  </tbody>\n",
       "</table>\n",
       "</div>"
      ],
      "text/plain": [
       "   predicted_score\n",
       "0              2.5\n",
       "1              3.2\n",
       "2              2.3\n",
       "3              3.4\n",
       "4              2.4"
      ]
     },
     "execution_count": 46,
     "metadata": {},
     "output_type": "execute_result"
    }
   ],
   "source": [
    "df_data.head()"
   ]
  },
  {
   "cell_type": "code",
   "execution_count": 47,
   "id": "be627008",
   "metadata": {},
   "outputs": [],
   "source": [
    "new=pd.concat([df_test_new,df_data],axis=1, join='inner')"
   ]
  },
  {
   "cell_type": "code",
   "execution_count": 48,
   "id": "10c4a268",
   "metadata": {},
   "outputs": [
    {
     "data": {
      "text/html": [
       "<div>\n",
       "<style scoped>\n",
       "    .dataframe tbody tr th:only-of-type {\n",
       "        vertical-align: middle;\n",
       "    }\n",
       "\n",
       "    .dataframe tbody tr th {\n",
       "        vertical-align: top;\n",
       "    }\n",
       "\n",
       "    .dataframe thead th {\n",
       "        text-align: right;\n",
       "    }\n",
       "</style>\n",
       "<table border=\"1\" class=\"dataframe\">\n",
       "  <thead>\n",
       "    <tr style=\"text-align: right;\">\n",
       "      <th></th>\n",
       "      <th>promptId</th>\n",
       "      <th>uniqueId</th>\n",
       "      <th>essay</th>\n",
       "      <th>predicted_score</th>\n",
       "    </tr>\n",
       "  </thead>\n",
       "  <tbody>\n",
       "    <tr>\n",
       "      <th>0</th>\n",
       "      <td>1</td>\n",
       "      <td>1_315</td>\n",
       "      <td>Curriculum has been adopted in many schools. T...</td>\n",
       "      <td>2.5</td>\n",
       "    </tr>\n",
       "    <tr>\n",
       "      <th>1</th>\n",
       "      <td>1</td>\n",
       "      <td>1_214</td>\n",
       "      <td>I strongly agree with the statement ,  The tig...</td>\n",
       "      <td>3.2</td>\n",
       "    </tr>\n",
       "    <tr>\n",
       "      <th>2</th>\n",
       "      <td>1</td>\n",
       "      <td>1_196</td>\n",
       "      <td>Imagination and creativity is the most importa...</td>\n",
       "      <td>2.3</td>\n",
       "    </tr>\n",
       "    <tr>\n",
       "      <th>3</th>\n",
       "      <td>1</td>\n",
       "      <td>1_178</td>\n",
       "      <td>In our eduction system leaves no room for imag...</td>\n",
       "      <td>3.4</td>\n",
       "    </tr>\n",
       "    <tr>\n",
       "      <th>4</th>\n",
       "      <td>1</td>\n",
       "      <td>1_201</td>\n",
       "      <td>I will agree at some what extend, because if w...</td>\n",
       "      <td>2.4</td>\n",
       "    </tr>\n",
       "  </tbody>\n",
       "</table>\n",
       "</div>"
      ],
      "text/plain": [
       "   promptId uniqueId                                              essay  \\\n",
       "0         1    1_315  Curriculum has been adopted in many schools. T...   \n",
       "1         1    1_214  I strongly agree with the statement ,  The tig...   \n",
       "2         1    1_196  Imagination and creativity is the most importa...   \n",
       "3         1    1_178  In our eduction system leaves no room for imag...   \n",
       "4         1    1_201  I will agree at some what extend, because if w...   \n",
       "\n",
       "   predicted_score  \n",
       "0              2.5  \n",
       "1              3.2  \n",
       "2              2.3  \n",
       "3              3.4  \n",
       "4              2.4  "
      ]
     },
     "execution_count": 48,
     "metadata": {},
     "output_type": "execute_result"
    }
   ],
   "source": [
    "new.head()"
   ]
  },
  {
   "cell_type": "code",
   "execution_count": 49,
   "id": "54472894",
   "metadata": {},
   "outputs": [],
   "source": [
    "new.to_csv('test.csv',index=False)"
   ]
  },
  {
   "cell_type": "code",
   "execution_count": null,
   "id": "b08f5302",
   "metadata": {},
   "outputs": [],
   "source": []
  }
 ],
 "metadata": {
  "kernelspec": {
   "display_name": "Python 3",
   "language": "python",
   "name": "python3"
  },
  "language_info": {
   "codemirror_mode": {
    "name": "ipython",
    "version": 3
   },
   "file_extension": ".py",
   "mimetype": "text/x-python",
   "name": "python",
   "nbconvert_exporter": "python",
   "pygments_lexer": "ipython3",
   "version": "3.9.2"
  }
 },
 "nbformat": 4,
 "nbformat_minor": 5
}
